{
 "cells": [
  {
   "cell_type": "code",
   "execution_count": 106,
   "metadata": {},
   "outputs": [],
   "source": [
    "import pandas as pd\n",
    "import numpy as np\n",
    "import statistics\n",
    "import datetime\n",
    "import re"
   ]
  },
  {
   "cell_type": "code",
   "execution_count": 107,
   "metadata": {},
   "outputs": [],
   "source": [
    "raw = pd.read_csv(\"data.csv\")\n",
    "# set(raw.columns)"
   ]
  },
  {
   "cell_type": "code",
   "execution_count": 108,
   "metadata": {},
   "outputs": [],
   "source": [
    "#刪掉無資訊、明顯無相關的欄位\n",
    "saved_columns = [\n",
    " 'TypeIdName', #('其他', '犬', '貓')\n",
    " 'AcceptDate', #被領養日期？\n",
    " 'DistrictTeamName',\n",
    " 'SexName',#{'none', '公', '未知', '母'}\n",
    " 'ReasonName',#{nan, '不擬續養', '依法沒入', '其他', '動物救援', '拾獲送交', '收容所轉入', '政府捕捉'}\n",
    " 'VarietyName',#種類，阿富汗、馬爾濟斯...71種，其中兩個是數字268,269\n",
    " 'VarietyRemark',#更細的種類，沒有救NaN\n",
    " 'BuildName',#體型名稱{'1', '中', '大', '小'}\n",
    " 'Bodyweight',#超亂，setlen=12135, nan, NaN, 13~15, 2公斤, 4....\n",
    " 'Age2Name',#{'1至3月齡', '1至3歲', '3至6月齡', '3至7歲', '6月齡至1歲', '7歲以上', nan, 'none', '未離乳'}\n",
    " 'CoatName',#毛色，28種，包括'none'\n",
    " 'MouthCoat',#亂，nan,'string', '鼻上方有一咖啡色胎記', '黑嘴','黑嘴    '\n",
    " 'HeadCoat',# 亂，set多個nan???\n",
    " 'ChestCoat',#亂，nan, 'string'...\n",
    " 'FootCoat',#亂，nan, 'string'...\n",
    " 'EarCoat',# 亂，set多個nan???\n",
    " 'BackCoat',# 亂，set多個nan???\n",
    " 'TailCoat',#亂，nan,'string',\n",
    " 'CollarName',#項圈顏色{'none', '其他', '棕色', '無', '白色', '粉紅色', '紅色', '花色', '藍色', '銀色', '黃色', '黑色'}\n",
    "#  'CollarRemark',#項圈特徵\n",
    " 'ThoracodorsalName',#胸甲(衣服)顏色{'none', '其他', '棕色', '無', '白色', '紅色', '花色', '藍色', '黃色', '黑色'}\n",
    "#  'ThoracodorsalRemark',#多，胸甲(衣服)特徵\n",
    " 'AdoptionName',#{'待認領', '暫時不適合', '適合認養'}\n",
    " 'NotAdoptionName',#{'none', '健康不適', '動保案件', '年紀不適', '行為不適'}\n",
    " '_Situation2Name',#{'none','人道處理其他法令授權','人道處理第12條第1項第3款','人道處理第12條第1項第5款', '人道處理第12條第1項第7款', '其他','原地飭回','收容所轉出','生理耗弱死亡','疾病死亡','認領','認養','逃脫'}\n",
    " 'SituationRemark',#認養狀態備註\n",
    " 'StatusName',#{'sNull', '其他', '原地飭回', '安樂死', '生理耗弱死亡', '疾病死亡', '認領養', '逃跑'}\n",
    "#  'Address',\n",
    " 'IsSterilizationName',#{'是', '未確定'}\n",
    "#  'SterilizationDate',\n",
    " 'EarNoteName',#{'none', '右剪耳', '左剪耳'}\n",
    "#  'Note',#超雜\n",
    " 'LengthCoatName',#{'none', '中長毛', '未修剪過', '短毛', '長毛'}\n",
    " 'HealthStatusName',#{'none', '其它', '寄生蟲', '正常', '異常', '疫苗'}\n",
    "#  'HealthStatusRemark',#超多受傷原因\n",
    " 'Behavior',#幾種數字，但還不知道數字代表的意思\n",
    "#  'BehaviorRemark',#超多行為描述\n",
    " 'InImage',\n",
    " 'ImageNameStr',\n",
    " 'FrontImageName',\n",
    "#  'VaccineDate', #沒填示沒打過疫苗？\n",
    "#  'ShelterName',\n",
    "#  'VillageID',\n",
    "#  'VillageName',\n",
    " 'FinalDate'#領養日期\n",
    "]\n",
    "raw = raw[saved_columns]"
   ]
  },
  {
   "cell_type": "code",
   "execution_count": 109,
   "metadata": {},
   "outputs": [
    {
     "name": "stdout",
     "output_type": "stream",
     "text": [
      "Before rm na: (115267, 34)\n",
      "FinalDate (115267, 34)\n",
      "ReasonName (115261, 34)\n",
      "Aefore rm na: (115261, 34)\n"
     ]
    }
   ],
   "source": [
    "#dropna columns\n",
    "dropna_col = ['FinalDate','ReasonName']\n",
    "# replacenan_col = ['DistrictTeamName', 'VarietyRemark','Bodyweight',\n",
    "#                   'MouthCoat','HeadCoat','ChestCoat','FootCoat','EarCoat',\n",
    "#                   'BackCoat','TailCoat','HealthStatusRemark','BehaviorRemark','CollarRemark',\n",
    "#                   'ThoracodorsalRemark','SituationRemark','Behavior','VillageName']\n",
    "print(\"Before rm na:\", raw.shape)\n",
    "\n",
    "for d_col in dropna_col:\n",
    "    raw=raw[raw[d_col].notna()]\n",
    "    print(d_col, raw.shape)\n",
    "raw.fillna('無', inplace=True)\n",
    "raw.replace('none', '無', inplace=True)\n",
    "raw['StatusName'].replace('sNull', '無', inplace=True)\n",
    "print(\"Aefore rm na:\", raw.shape)"
   ]
  },
  {
   "cell_type": "code",
   "execution_count": 110,
   "metadata": {},
   "outputs": [
    {
     "name": "stdout",
     "output_type": "stream",
     "text": [
      "After cleaning dirty data: (107115, 33)\n"
     ]
    }
   ],
   "source": [
    "#[Staydays]\n",
    "raw['AcceptDate'] = [datetime.datetime.strptime(x, \"%Y-%m-%dT%H:%M:%S\") for x in raw['AcceptDate']] \n",
    "raw['FinalDate'] = [datetime.datetime.strptime(x, \"%Y-%m-%dT%H:%M:%S\") for x in raw['FinalDate']] \n",
    "raw[\"StayDays\"] = raw[\"FinalDate\"]-raw['AcceptDate']\n",
    "raw['StayDays'] = [x.days for x in raw['StaypDays']] \n",
    "#[Staydays] 清掉未被領養的資料\n",
    "raw = raw[raw['StayDays']>=0]\n",
    "raw.drop(columns=['AcceptDate', 'FinalDate'], inplace=True)\n",
    "\n",
    "#[SexName]clean\n",
    "raw[\"SexName\"].replace({\"none\": \"未知\"}, inplace=True)\n",
    "#VarietyName=>268,269清掉？\n",
    "\n",
    "#[BuildName]clean\n",
    "raw = raw[raw[\"BuildName\"] != '1']\n",
    "#[VarietyRemark]clean\n",
    "tmp = [False if x in ['0','MIX','mix','string'] else True for x in raw['VarietyRemark']]\n",
    "raw = raw[tmp]\n",
    "\n",
    "print(\"After cleaning dirty data:\", raw.shape)"
   ]
  },
  {
   "cell_type": "code",
   "execution_count": 111,
   "metadata": {},
   "outputs": [
    {
     "name": "stdout",
     "output_type": "stream",
     "text": [
      "After cleaning dirty data: (107088, 33)\n"
     ]
    }
   ],
   "source": [
    "#[Bodyweight]clean\n",
    "tmp = [False if x in ['strin','東22','１',''] else True for x in raw['Bodyweight']]\n",
    "raw = raw[tmp]\n",
    "raw['Bodyweight'] = [str(x).replace('K', '').replace('G', '').replace('k', '').replace('g', '').replace('<', '').replace('-', '~').replace('ｋｇ', '').replace('公斤', '').replace('以上', '').replace('以下', '').replace('體重', '').replace('胖', '20').strip(\". \") for x in raw['Bodyweight']]\n",
    "tmp = []\n",
    "for x in raw['Bodyweight']:\n",
    "        if x == \"無\" or x == '':\n",
    "            tmp.append(\"無\")\n",
    "            continue\n",
    "        if x.find(\"~\") != -1:\n",
    "            tmp.append(statistics.mean([float(y) for y in x.split(\"~\")]))\n",
    "        else:\n",
    "            tmp.append(float(x))\n",
    "raw['Bodyweight'] = tmp\n",
    "#[Bodyweight]remove outlier\n",
    "tmp = np.array([x for x in tmp if x != \"無\"])\n",
    "Q1= np.mean(tmp)-2*np.std(tmp)\n",
    "Q3= np.mean(tmp)+2*np.std(tmp)\n",
    "raw = raw[[True if x == \"無\" or (x >= Q1 and x <= Q3) else False for x in raw['Bodyweight']]]\n",
    "#[Bodyweight]convert to category(0~5, 5~10, 10~15...20以上)\n",
    "tmp = []\n",
    "for x in raw['Bodyweight']:\n",
    "    if x == \"無\":\n",
    "        tmp.append(\"無\")\n",
    "    elif x > 0 and x <= 5:\n",
    "        tmp.append(\"0~5\")\n",
    "    elif x > 5 and x <= 10:\n",
    "        tmp.append(\"5~10\")\n",
    "    elif x > 10 and x <= 15:\n",
    "        tmp.append(\"10~15\")\n",
    "    elif x > 15 and x <= 20:\n",
    "        tmp.append(\"15~20\")\n",
    "    else:\n",
    "        tmp.append(\"20以上\")\n",
    "raw['Bodyweight'] = tmp\n",
    "\n",
    "print(\"After cleaning dirty data:\", raw.shape)"
   ]
  },
  {
   "cell_type": "markdown",
   "metadata": {},
   "source": [
    "# Coat 如何切分特徵，同時有多個特徵？\n",
    "\n",
    "### 橘貓很受歡迎？？？"
   ]
  },
  {
   "cell_type": "code",
   "execution_count": 112,
   "metadata": {},
   "outputs": [
    {
     "name": "stdout",
     "output_type": "stream",
     "text": [
      "ChestCoat:\n",
      "棕黑毛 7\n",
      "其他 172\n",
      "黃毛 7\n",
      "白毛 457\n",
      "無 106445\n",
      "\n",
      "MouthCoat:\n",
      "黃 5\n",
      "棕灰黑 216\n",
      "白 109\n",
      "其他 179\n",
      "無 106579\n",
      "\n",
      "HeadCoat:\n",
      "黃 26\n",
      "棕灰黑 38\n",
      "虎斑 19\n",
      "受傷 9\n",
      "白 16\n",
      "其他 186\n",
      "四眼 63\n",
      "黑白 3\n",
      "無 106731\n",
      "\n",
      "FootCoat:\n",
      "黃 95\n",
      "虎斑 78\n",
      "受傷 41\n",
      "棕灰黑 45\n",
      "白 319\n",
      "其他 180\n",
      "無 106330\n",
      "\n",
      "EarCoat:\n",
      "黃 15\n",
      "棕灰黑 24\n",
      "虎斑 7\n",
      "受傷 7\n",
      "其他 170\n",
      "剪/缺/折/立/垂耳 155\n",
      "無 106710\n",
      "\n",
      "BackCoat:\n",
      "棕灰黑 32\n",
      "受傷 9\n",
      "白 16\n",
      "其他 183\n",
      "斑點 12\n",
      "無 106836\n",
      "\n",
      "TailCoat:\n",
      "無尾 5\n",
      "棕灰黑 31\n",
      "有病 2\n",
      "白 9\n",
      "其他 183\n",
      "截尾 58\n",
      "麒麟尾 52\n",
      "斑點 7\n",
      "無 106746\n",
      "\n"
     ]
    }
   ],
   "source": [
    "#ChestCoat\n",
    "raw['ChestCoat'] = [\"白毛\" if x.find(\"白\")!=-1 else x for x in raw['ChestCoat']] #496 objs\n",
    "raw['ChestCoat'] = [\"黃毛\" if x.find(\"黃\")!=-1 else x for x in raw['ChestCoat']] #7 objs\n",
    "raw['ChestCoat'] = [\"棕黑毛\" if re.search('咖啡|黑|棕', x) else x for x in raw['ChestCoat']] #9 objs\n",
    "raw['ChestCoat'] = [x if (x == \"無\" or re.search('白毛|黃毛|棕黑毛', x)) else \"其他\" for x in raw['ChestCoat']]\n",
    "print(\"ChestCoat:\")\n",
    "for i in set(raw['ChestCoat']):\n",
    "    print(i, sum([True if re.search(i, x) else False for x in raw['ChestCoat']]))\n",
    "print()\n",
    "\n",
    "#MouthCoat\n",
    "raw['MouthCoat'] = [\"白\" if x.find(\"白\")!=-1 else x for x in raw['MouthCoat']] #117 objs\n",
    "raw['MouthCoat'] = [\"黃\" if x.find(\"黃\")!=-1 else x for x in raw['MouthCoat']] #9 objs\n",
    "raw['MouthCoat'] = [\"棕灰黑\" if re.search('咖啡|黑|棕|灰', x) else x for x in raw['MouthCoat']] #242 objs\n",
    "raw['MouthCoat'] = [x if (x == \"無\" or re.search('白|黃|棕灰黑', x)) else \"其他\" for x in raw['MouthCoat']]\n",
    "print(\"MouthCoat:\")\n",
    "for i in set(raw['MouthCoat']):\n",
    "    print(i, sum([True if re.search(i, x) else False for x in raw['MouthCoat']]))\n",
    "print()\n",
    "\n",
    "#HeadCoat\n",
    "raw['HeadCoat'] = [\"虎斑\" if re.search('虎斑|虎班', x) else x for x in raw['HeadCoat']] #23 objs\n",
    "raw['HeadCoat'] = [\"黑白\" if re.search('黑.*白', x) else x for x in raw['HeadCoat']] #4 objs\n",
    "raw['HeadCoat'] = [\"棕灰黑\" if (re.search('咖啡|黑|棕|灰', x) and x != \"黑白\") else x for x in raw['HeadCoat']] #41 objs\n",
    "raw['HeadCoat'] = [\"受傷\" if re.search('傷|浮腫|受傷|車禍|獨眼|白內障', x) else x for x in raw['HeadCoat']] #10 objs\n",
    "raw['HeadCoat'] = [\"四眼\" if re.search('四目|四眼', x) else x for x in raw['HeadCoat']] #66 objs\n",
    "raw['HeadCoat'] = [\"白\" if (x.find(\"白\")!=-1 and x != \"黑白\") else x for x in raw['HeadCoat']] #18 objs\n",
    "raw['HeadCoat'] = [\"黃\" if x.find(\"黃\")!=-1 else x for x in raw['HeadCoat']] #29 objs\n",
    "raw['HeadCoat'] = [x if (x == \"無\" or re.search('虎斑|黑白|棕灰黑|受傷|四眼|白|黃', x)) else \"其他\" for x in raw['HeadCoat']]\n",
    "print(\"HeadCoat:\")\n",
    "for i in set(raw['HeadCoat']):\n",
    "    print(i, sum([True if re.search(i, x) else False for x in raw['HeadCoat']]))\n",
    "print()\n",
    "\n",
    "#FootCoat\n",
    "raw['FootCoat'] = [\"受傷\" if re.search('傷|截|不良於行|骨折|斷裂|缺|腫瘤|斷|脫臼|尺骨外露|跛行|三腳|後癱|癱瘓|畸形|短|無力', x) else x for x in raw['FootCoat']] #10 objs\n",
    "raw['FootCoat'] = [\"虎斑\" if re.search('虎斑|虎班|斑紋', x) else x for x in raw['FootCoat']] #23 objs\n",
    "raw['FootCoat'] = [\"白\" if x.find(\"白\")!=-1 else x for x in raw['FootCoat']] #18 objs\n",
    "raw['FootCoat'] = [\"棕灰黑\" if re.search('咖啡|黑|棕|灰', x) else x for x in raw['FootCoat']] #23 objs\n",
    "raw['FootCoat'] = [\"黃\" if x.find(\"黃\")!=-1 else x for x in raw['FootCoat']] #18 objs\n",
    "raw['FootCoat'] = [x if (x == \"無\" or re.search('虎斑|白|棕灰黑|受傷|黃', x)) else \"其他\" for x in raw['FootCoat']]\n",
    "print(\"FootCoat:\")\n",
    "for i in set(raw['FootCoat']):\n",
    "    print(i, sum([True if re.search(i, x) else False for x in raw['FootCoat']]))\n",
    "print()\n",
    "\n",
    "#EarCoat\n",
    "raw['EarCoat'] = [\"剪/缺/折/立/垂耳\" if re.search('垂|剪|折|缺|立|摺|聳', x) else x for x in raw['EarCoat']] #10 objs\n",
    "raw['EarCoat'] = [\"受傷\" if re.search('左耳皺|皮膚炎|長瘤', x) else x for x in raw['EarCoat']] #23 objs\n",
    "raw['EarCoat'] = [\"虎斑\" if re.search('虎斑|虎班|斑紋', x) else x for x in raw['EarCoat']] #23 objs\n",
    "raw['EarCoat'] = [\"棕灰黑\" if re.search('咖啡|黑|棕|灰', x) else x for x in raw['EarCoat']] #23 objs\n",
    "raw['EarCoat'] = [\"黃\" if x.find(\"黃\")!=-1 else x for x in raw['EarCoat']] #18 objs\n",
    "raw['EarCoat'] = [x if (x == \"無\" or re.search('虎斑|缺|棕灰黑|受傷|黃', x)) else \"其他\" for x in raw['EarCoat']]\n",
    "print(\"EarCoat:\")\n",
    "for i in set(raw['EarCoat']):\n",
    "    print(i, sum([True if re.search(i, x) else False for x in raw['EarCoat']]))\n",
    "print()\n",
    "\n",
    "#BackCoat\n",
    "raw['BackCoat'] = [\"受傷\" if re.search('皮膚病|傷|突出物', x) else x for x in raw['BackCoat']]\n",
    "raw['BackCoat'] = [\"斑點\" if re.search('虎斑|虎班|斑紋|斑', x) else x for x in raw['BackCoat']]\n",
    "raw['BackCoat'] = [\"白\" if re.search('白', x) else x for x in raw['BackCoat']]\n",
    "raw['BackCoat'] = [\"棕灰黑\" if re.search('咖啡|黑|棕|灰', x)  else x for x in raw['BackCoat']] \n",
    "raw['BackCoat'] = [x if (x == \"無\" or re.search('斑點|棕灰黑|受傷|白', x)) else \"其他\" for x in raw['BackCoat']]\n",
    "print(\"BackCoat:\")\n",
    "for i in set(raw['BackCoat']):\n",
    "    print(i, sum([True if re.search(i, x) else False for x in raw['BackCoat']]))\n",
    "print()\n",
    "\n",
    "#TailCoat\n",
    "raw['TailCoat'] = [\"有病\" if re.search('皮膚病|肉瘤', x) else x for x in raw['TailCoat']]\n",
    "raw['TailCoat'] = [\"截尾\" if re.search('截|剪尾|半短|折尾|斷|短|半尾', x) else x for x in raw['TailCoat']]\n",
    "raw['TailCoat'] = [\"無尾\" if re.search('無尾', x) else x for x in raw['TailCoat']]\n",
    "raw['TailCoat'] = [\"斑點\" if re.search('虎斑|虎班|斑紋|斑', x) else x for x in raw['TailCoat']]\n",
    "raw['TailCoat'] = [\"麒麟尾\" if re.search('麒麟', x) else x for x in raw['TailCoat']]\n",
    "raw['TailCoat'] = [\"鐮刀尾\" if re.search('鐮刀', x) else x for x in raw['TailCoat']]\n",
    "raw['TailCoat'] = [\"白\" if re.search('白', x) else x for x in raw['TailCoat']]\n",
    "raw['TailCoat'] = [\"棕灰黑\" if re.search('咖啡|黑|棕|灰', x)  else x for x in raw['TailCoat']] \n",
    "raw['TailCoat'] = [x if (x == \"無\" or re.search('斑點|棕灰黑|有病|白|截尾|無尾|麒麟尾|鐮刀尾', x)) else \"其他\" for x in raw['TailCoat']]\n",
    "print(\"TailCoat:\")\n",
    "set(raw['TailCoat'])\n",
    "for i in set(raw['TailCoat']):\n",
    "    print(i, sum([True if re.search(i, x) else False for x in raw['TailCoat']]))\n",
    "print()"
   ]
  },
  {
   "cell_type": "code",
   "execution_count": 113,
   "metadata": {},
   "outputs": [],
   "source": [
    "#有無項圈\n",
    "raw['CollarName'] = [\"無項圈\" if x == \"無\" else \"有項圈\" for x in raw['CollarName']]\n",
    "#有無衣服\n",
    "raw['ThoracodorsalName'] = [\"無衣服\" if x == \"無\" else \"有衣服\" for x in raw['ThoracodorsalName']]"
   ]
  },
  {
   "cell_type": "markdown",
   "metadata": {},
   "source": [
    "# NotAdoptionName有標注的欄位都刪掉？"
   ]
  },
  {
   "cell_type": "code",
   "execution_count": 114,
   "metadata": {
    "scrolled": true
   },
   "outputs": [
    {
     "name": "stdout",
     "output_type": "stream",
     "text": [
      "{'動保案件', '行為不適', '無', '健康不適', '年紀不適'}\n",
      "rm [NotAdoptionName], data shape (100550, 33)\n"
     ]
    }
   ],
   "source": [
    "#每隻動物都被領養了嗎？？？因為有NotAdoptionName這個欄位\n",
    "print(set(raw['NotAdoptionName']))\n",
    "raw = raw[raw['NotAdoptionName']=='無']\n",
    "print(\"rm [NotAdoptionName], data shape\", raw.shape)"
   ]
  },
  {
   "cell_type": "markdown",
   "metadata": {},
   "source": [
    "# SituationRemark有標注的欄位都刪掉？"
   ]
  },
  {
   "cell_type": "code",
   "execution_count": 115,
   "metadata": {},
   "outputs": [
    {
     "name": "stdout",
     "output_type": "stream",
     "text": [
      "rm [SituationRemark], data shape (82817, 33)\n"
     ]
    }
   ],
   "source": [
    "# print(set(raw['SituationRemark']))\n",
    "raw = raw[raw['SituationRemark']=='無']\n",
    "print(\"rm [SituationRemark], data shape\", raw.shape)"
   ]
  },
  {
   "cell_type": "markdown",
   "metadata": {},
   "source": [
    "# IsSterilizationName'填的有{'是', '未確定'}，填是的有14834筆，SterilizationDate 有填的9961筆\n",
    "\n",
    "\n",
    "### 要保留IsSterilizationName這個欄位就好嗎？"
   ]
  },
  {
   "cell_type": "code",
   "execution_count": 116,
   "metadata": {},
   "outputs": [
    {
     "ename": "KeyError",
     "evalue": "'SterilizationDate'",
     "output_type": "error",
     "traceback": [
      "\u001b[0;31m---------------------------------------------------------------------------\u001b[0m",
      "\u001b[0;31mKeyError\u001b[0m                                  Traceback (most recent call last)",
      "\u001b[0;32m~/opt/anaconda3/lib/python3.7/site-packages/pandas/core/indexes/base.py\u001b[0m in \u001b[0;36mget_loc\u001b[0;34m(self, key, method, tolerance)\u001b[0m\n\u001b[1;32m   2896\u001b[0m             \u001b[0;32mtry\u001b[0m\u001b[0;34m:\u001b[0m\u001b[0;34m\u001b[0m\u001b[0;34m\u001b[0m\u001b[0m\n\u001b[0;32m-> 2897\u001b[0;31m                 \u001b[0;32mreturn\u001b[0m \u001b[0mself\u001b[0m\u001b[0;34m.\u001b[0m\u001b[0m_engine\u001b[0m\u001b[0;34m.\u001b[0m\u001b[0mget_loc\u001b[0m\u001b[0;34m(\u001b[0m\u001b[0mkey\u001b[0m\u001b[0;34m)\u001b[0m\u001b[0;34m\u001b[0m\u001b[0;34m\u001b[0m\u001b[0m\n\u001b[0m\u001b[1;32m   2898\u001b[0m             \u001b[0;32mexcept\u001b[0m \u001b[0mKeyError\u001b[0m\u001b[0;34m:\u001b[0m\u001b[0;34m\u001b[0m\u001b[0;34m\u001b[0m\u001b[0m\n",
      "\u001b[0;32mpandas/_libs/index.pyx\u001b[0m in \u001b[0;36mpandas._libs.index.IndexEngine.get_loc\u001b[0;34m()\u001b[0m\n",
      "\u001b[0;32mpandas/_libs/index.pyx\u001b[0m in \u001b[0;36mpandas._libs.index.IndexEngine.get_loc\u001b[0;34m()\u001b[0m\n",
      "\u001b[0;32mpandas/_libs/hashtable_class_helper.pxi\u001b[0m in \u001b[0;36mpandas._libs.hashtable.PyObjectHashTable.get_item\u001b[0;34m()\u001b[0m\n",
      "\u001b[0;32mpandas/_libs/hashtable_class_helper.pxi\u001b[0m in \u001b[0;36mpandas._libs.hashtable.PyObjectHashTable.get_item\u001b[0;34m()\u001b[0m\n",
      "\u001b[0;31mKeyError\u001b[0m: 'SterilizationDate'",
      "\nDuring handling of the above exception, another exception occurred:\n",
      "\u001b[0;31mKeyError\u001b[0m                                  Traceback (most recent call last)",
      "\u001b[0;32m<ipython-input-116-75291bcfb2da>\u001b[0m in \u001b[0;36m<module>\u001b[0;34m\u001b[0m\n\u001b[0;32m----> 1\u001b[0;31m \u001b[0mprint\u001b[0m\u001b[0;34m(\u001b[0m\u001b[0msum\u001b[0m\u001b[0;34m(\u001b[0m\u001b[0;34m[\u001b[0m\u001b[0;32mTrue\u001b[0m \u001b[0;32mif\u001b[0m \u001b[0mx\u001b[0m\u001b[0;34m!=\u001b[0m\u001b[0;34m'0001-01-01T00:00:00'\u001b[0m \u001b[0;32melse\u001b[0m \u001b[0;32mFalse\u001b[0m \u001b[0;32mfor\u001b[0m \u001b[0mx\u001b[0m \u001b[0;32min\u001b[0m \u001b[0mraw\u001b[0m\u001b[0;34m[\u001b[0m\u001b[0;34m'SterilizationDate'\u001b[0m\u001b[0;34m]\u001b[0m\u001b[0;34m]\u001b[0m\u001b[0;34m)\u001b[0m\u001b[0;34m)\u001b[0m\u001b[0;34m\u001b[0m\u001b[0;34m\u001b[0m\u001b[0m\n\u001b[0m\u001b[1;32m      2\u001b[0m \u001b[0mprint\u001b[0m\u001b[0;34m(\u001b[0m\u001b[0msum\u001b[0m\u001b[0;34m(\u001b[0m\u001b[0;34m[\u001b[0m\u001b[0;32mTrue\u001b[0m \u001b[0;32mif\u001b[0m \u001b[0mx\u001b[0m\u001b[0;34m==\u001b[0m\u001b[0;34m'是'\u001b[0m \u001b[0;32melse\u001b[0m \u001b[0;32mFalse\u001b[0m \u001b[0;32mfor\u001b[0m \u001b[0mx\u001b[0m \u001b[0;32min\u001b[0m \u001b[0mraw\u001b[0m\u001b[0;34m[\u001b[0m\u001b[0;34m'IsSterilizationName'\u001b[0m\u001b[0;34m]\u001b[0m\u001b[0;34m]\u001b[0m\u001b[0;34m)\u001b[0m\u001b[0;34m)\u001b[0m\u001b[0;34m\u001b[0m\u001b[0;34m\u001b[0m\u001b[0m\n\u001b[1;32m      3\u001b[0m \u001b[0;31m# set(raw['SterilizationDate'])\u001b[0m\u001b[0;34m\u001b[0m\u001b[0;34m\u001b[0m\u001b[0;34m\u001b[0m\u001b[0m\n",
      "\u001b[0;32m~/opt/anaconda3/lib/python3.7/site-packages/pandas/core/frame.py\u001b[0m in \u001b[0;36m__getitem__\u001b[0;34m(self, key)\u001b[0m\n\u001b[1;32m   2978\u001b[0m             \u001b[0;32mif\u001b[0m \u001b[0mself\u001b[0m\u001b[0;34m.\u001b[0m\u001b[0mcolumns\u001b[0m\u001b[0;34m.\u001b[0m\u001b[0mnlevels\u001b[0m \u001b[0;34m>\u001b[0m \u001b[0;36m1\u001b[0m\u001b[0;34m:\u001b[0m\u001b[0;34m\u001b[0m\u001b[0;34m\u001b[0m\u001b[0m\n\u001b[1;32m   2979\u001b[0m                 \u001b[0;32mreturn\u001b[0m \u001b[0mself\u001b[0m\u001b[0;34m.\u001b[0m\u001b[0m_getitem_multilevel\u001b[0m\u001b[0;34m(\u001b[0m\u001b[0mkey\u001b[0m\u001b[0;34m)\u001b[0m\u001b[0;34m\u001b[0m\u001b[0;34m\u001b[0m\u001b[0m\n\u001b[0;32m-> 2980\u001b[0;31m             \u001b[0mindexer\u001b[0m \u001b[0;34m=\u001b[0m \u001b[0mself\u001b[0m\u001b[0;34m.\u001b[0m\u001b[0mcolumns\u001b[0m\u001b[0;34m.\u001b[0m\u001b[0mget_loc\u001b[0m\u001b[0;34m(\u001b[0m\u001b[0mkey\u001b[0m\u001b[0;34m)\u001b[0m\u001b[0;34m\u001b[0m\u001b[0;34m\u001b[0m\u001b[0m\n\u001b[0m\u001b[1;32m   2981\u001b[0m             \u001b[0;32mif\u001b[0m \u001b[0mis_integer\u001b[0m\u001b[0;34m(\u001b[0m\u001b[0mindexer\u001b[0m\u001b[0;34m)\u001b[0m\u001b[0;34m:\u001b[0m\u001b[0;34m\u001b[0m\u001b[0;34m\u001b[0m\u001b[0m\n\u001b[1;32m   2982\u001b[0m                 \u001b[0mindexer\u001b[0m \u001b[0;34m=\u001b[0m \u001b[0;34m[\u001b[0m\u001b[0mindexer\u001b[0m\u001b[0;34m]\u001b[0m\u001b[0;34m\u001b[0m\u001b[0;34m\u001b[0m\u001b[0m\n",
      "\u001b[0;32m~/opt/anaconda3/lib/python3.7/site-packages/pandas/core/indexes/base.py\u001b[0m in \u001b[0;36mget_loc\u001b[0;34m(self, key, method, tolerance)\u001b[0m\n\u001b[1;32m   2897\u001b[0m                 \u001b[0;32mreturn\u001b[0m \u001b[0mself\u001b[0m\u001b[0;34m.\u001b[0m\u001b[0m_engine\u001b[0m\u001b[0;34m.\u001b[0m\u001b[0mget_loc\u001b[0m\u001b[0;34m(\u001b[0m\u001b[0mkey\u001b[0m\u001b[0;34m)\u001b[0m\u001b[0;34m\u001b[0m\u001b[0;34m\u001b[0m\u001b[0m\n\u001b[1;32m   2898\u001b[0m             \u001b[0;32mexcept\u001b[0m \u001b[0mKeyError\u001b[0m\u001b[0;34m:\u001b[0m\u001b[0;34m\u001b[0m\u001b[0;34m\u001b[0m\u001b[0m\n\u001b[0;32m-> 2899\u001b[0;31m                 \u001b[0;32mreturn\u001b[0m \u001b[0mself\u001b[0m\u001b[0;34m.\u001b[0m\u001b[0m_engine\u001b[0m\u001b[0;34m.\u001b[0m\u001b[0mget_loc\u001b[0m\u001b[0;34m(\u001b[0m\u001b[0mself\u001b[0m\u001b[0;34m.\u001b[0m\u001b[0m_maybe_cast_indexer\u001b[0m\u001b[0;34m(\u001b[0m\u001b[0mkey\u001b[0m\u001b[0;34m)\u001b[0m\u001b[0;34m)\u001b[0m\u001b[0;34m\u001b[0m\u001b[0;34m\u001b[0m\u001b[0m\n\u001b[0m\u001b[1;32m   2900\u001b[0m         \u001b[0mindexer\u001b[0m \u001b[0;34m=\u001b[0m \u001b[0mself\u001b[0m\u001b[0;34m.\u001b[0m\u001b[0mget_indexer\u001b[0m\u001b[0;34m(\u001b[0m\u001b[0;34m[\u001b[0m\u001b[0mkey\u001b[0m\u001b[0;34m]\u001b[0m\u001b[0;34m,\u001b[0m \u001b[0mmethod\u001b[0m\u001b[0;34m=\u001b[0m\u001b[0mmethod\u001b[0m\u001b[0;34m,\u001b[0m \u001b[0mtolerance\u001b[0m\u001b[0;34m=\u001b[0m\u001b[0mtolerance\u001b[0m\u001b[0;34m)\u001b[0m\u001b[0;34m\u001b[0m\u001b[0;34m\u001b[0m\u001b[0m\n\u001b[1;32m   2901\u001b[0m         \u001b[0;32mif\u001b[0m \u001b[0mindexer\u001b[0m\u001b[0;34m.\u001b[0m\u001b[0mndim\u001b[0m \u001b[0;34m>\u001b[0m \u001b[0;36m1\u001b[0m \u001b[0;32mor\u001b[0m \u001b[0mindexer\u001b[0m\u001b[0;34m.\u001b[0m\u001b[0msize\u001b[0m \u001b[0;34m>\u001b[0m \u001b[0;36m1\u001b[0m\u001b[0;34m:\u001b[0m\u001b[0;34m\u001b[0m\u001b[0;34m\u001b[0m\u001b[0m\n",
      "\u001b[0;32mpandas/_libs/index.pyx\u001b[0m in \u001b[0;36mpandas._libs.index.IndexEngine.get_loc\u001b[0;34m()\u001b[0m\n",
      "\u001b[0;32mpandas/_libs/index.pyx\u001b[0m in \u001b[0;36mpandas._libs.index.IndexEngine.get_loc\u001b[0;34m()\u001b[0m\n",
      "\u001b[0;32mpandas/_libs/hashtable_class_helper.pxi\u001b[0m in \u001b[0;36mpandas._libs.hashtable.PyObjectHashTable.get_item\u001b[0;34m()\u001b[0m\n",
      "\u001b[0;32mpandas/_libs/hashtable_class_helper.pxi\u001b[0m in \u001b[0;36mpandas._libs.hashtable.PyObjectHashTable.get_item\u001b[0;34m()\u001b[0m\n",
      "\u001b[0;31mKeyError\u001b[0m: 'SterilizationDate'"
     ]
    }
   ],
   "source": [
    "print(sum([True if x!='0001-01-01T00:00:00' else False for x in raw['SterilizationDate']]))\n",
    "print(sum([True if x=='是' else False for x in raw['IsSterilizationName']]))\n",
    "# set(raw['SterilizationDate'])"
   ]
  },
  {
   "cell_type": "markdown",
   "metadata": {},
   "source": [
    "#  備註欄位直接刪掉？內容大致為三類（病因、外觀、各種阿里阿咂），其中病因佔多數"
   ]
  },
  {
   "cell_type": "code",
   "execution_count": null,
   "metadata": {},
   "outputs": [],
   "source": [
    "# print(sum([True if x=='無' else False for x in raw['Note']]))\n",
    "# set(raw['Note'])"
   ]
  },
  {
   "cell_type": "code",
   "execution_count": null,
   "metadata": {},
   "outputs": [],
   "source": [
    "# set(raw['HealthStatusName'])\n",
    "# print(sum([True if x=='無' else False for x in raw['HealthStatusName']]))"
   ]
  },
  {
   "cell_type": "markdown",
   "metadata": {},
   "source": [
    "#  健康狀態備註欄位直接刪掉？\n",
    "- 絕育(佔多數)(紮)\n",
    "- 病因or缺陷\n",
    "- 疫苗（CCV\\CPV\\FIV\\五合一）\n",
    "- 驅蟲藥\n",
    "- 幼犬奶貓"
   ]
  },
  {
   "cell_type": "code",
   "execution_count": null,
   "metadata": {},
   "outputs": [],
   "source": [
    "# set(raw['HealthStatusRemark'])\n",
    "# print(sum([True if x=='無' else False for x in raw['HealthStatusRemark']]))"
   ]
  },
  {
   "cell_type": "markdown",
   "metadata": {},
   "source": [
    "# [Behavior]可以有多種category，切成01表"
   ]
  },
  {
   "cell_type": "code",
   "execution_count": 118,
   "metadata": {},
   "outputs": [],
   "source": [
    "tmp = []\n",
    "for a in raw['Behavior']:\n",
    "    tmp += [x for x in a.split(\", \")]\n",
    "health_types = set(tmp)\n",
    "for i in health_types:\n",
    "    health_types_col = []\n",
    "    for a in raw['Behavior']:\n",
    "        if i in a:\n",
    "            health_types_col.append(1)\n",
    "        else:\n",
    "            health_types_col.append(0)\n",
    "    raw['Behavior'+i] = health_types_col\n",
    "raw.drop(columns=['Behavior'], inplace=True)"
   ]
  },
  {
   "cell_type": "code",
   "execution_count": 119,
   "metadata": {},
   "outputs": [
    {
     "name": "stdout",
     "output_type": "stream",
     "text": [
      "TypeIdName :  {'貓', '犬', '其他'}\n",
      "DistrictTeamName :  {'新港鄉', '花壇鄉', '朴子市', '白河區', '新城鄉', '後壁區', '萬華區', '卑南鄉', '西湖鄉', '佳里區', '安樂區', '安平區', '清水區', '二林鎮', '虎尾鎮', '里港鄉', '恆春鎮', '五結鄉', '板橋區', '新屋區', '阿蓮區', '名間鄉', '橫山鄉', '大同鄉', '鳳山區', '燕巢區', '獅子鄉', '北投區', '新化區', '東勢鄉', '林口區', '大里區', '金湖鎮', '成功鎮', '後龍鎮', '彌陀區', '南澳鄉', '公館鄉', '士林區', '新豐鄉', '東引鄉', '田尾鄉', '埤頭鄉', '官田區', '麟洛鄉', '玉井區', '東港鎮', '大城鄉', '中寮鄉', '大樹區', '壯圍鄉', '楊梅區', '枋山鄉', '香山區', '二崙鄉', '觀音區', '民雄鄉', '大肚區', '國姓鄉', '新埤鄉', '左鎮區', '中山區', '斗南鎮', '霧峰區', '金沙鎮', '延平鄉', '芬園鄉', '永和區', '冬山鄉', '通霄鎮', '三灣鄉', '西港區', '善化區', '新埔鎮', '中西區', '永安區', '芎林鄉', '苓雅區', '鼓山區', '甲仙區', '鹽埕區', '鹽埔鄉', '鶯歌區', '峨眉鄉', '寶山鄉', '九如鄉', '桃園區', '泰安鄉', '深坑區', '文山區', '莒光鄉', '白沙鄉', '瑪家鄉', '頭城鎮', '線西鄉', '暖暖區', '七堵區', '仁愛區', '八里區', '竹北市', '永康區', '信義鄉', '員林市', '元長鄉', '林邊鄉', '東石鄉', '魚池鄉', '卓蘭鎮', '草屯鎮', '麻豆區', '桃源區', '斗六市', '金山區', '銅鑼鄉', '崙背鄉', '內門區', '湖內區', '松山區', '鹿谷鄉', '瑞芳區', '花蓮市', '長濱鄉', '南竿鄉', '竹崎鄉', '湖西鄉', '豐原區', '苗栗市', '中壢區', '義竹鄉', '龍潭區', '雙溪區', '溪湖鎮', '海端鄉', '大內區', '秀林鄉', '竹山鎮', '田中鎮', '竹南鎮', '水林鄉', '北斗鎮', '東區', '溪州鄉', '綠島鄉', '土庫鎮', '造橋鄉', '湖口鄉', '鹿野鄉', '新店區', '南州鄉', '平鎮區', '林園區', '龍井區', '楠西區', '三芝區', '礁溪鄉', '金峰鄉', '羅東鎮', '秀水鄉', '鳥松區', '竹塘鄉', '太平區', '崁頂鄉', '大林鎮', '永靖鄉', '旗津區', '大園區', '關廟區', '大溪區', '蘇澳鎮', '車城鄉', '茂林區', '水里鄉', '沙鹿區', '福興鄉', '四湖鄉', '社頭鄉', '內埔鄉', '鹿草鄉', '口湖鄉', '旗山區', '鹿港鎮', '六龜區', '內湖區', '三義鄉', '汐止區', '岡山區', '復興區', '和美鎮', '大村鄉', '伸港鄉', '后里區', '大安區', '貢寮區', '八德區', '新市區', '神岡區', '馬公市', '阿里山鄉', '七股區', '埔鹽鄉', '頭份市', '南屯區', '新莊區', '池上鄉', '中和區', '北埔鄉', '無', '布袋鎮', '大湖鄉', '蘆洲區', '瑞穗鄉', '石碇區', '北港鎮', '大甲區', '東山區', '和平區', '梅山鄉', '那瑪夏區', '佳冬鄉', '西區', '路竹區', '新興區', '南區', '三星鄉', '潭子區', '吉安鄉', '坪林區', '六甲區', '蘆竹區', '關西鎮', '龜山區', '臺東市', '石門區', '烏來區', '外埔區', '將軍區', '達仁鄉', '土城區', '二水鄉', '學甲區', '六腳鄉', '梧棲區', '壽豐鄉', '仁愛鄉', '大埤鄉', '關山鎮', '竹東鎮', '樹林區', '臺西鄉', '萬里區', '溪口鄉', '茄萣區', '梓官區', '望安鄉', '尖石鄉', '麥寮鄉', '太麻里鄉', '仁德區', '柳營區', '大同區', '前金區', '淡水區', '鹽水區', '新園鄉', '埔里鎮', '芳苑鄉', '萬巒鄉', '橋頭區', '下營區', '信義區', '東河鄉', '三峽區', '萬丹鄉', '潮州鎮', '歸仁區', '鳳林鎮', '林內鄉', '玉里鎮', '西屯區', '南港區', '三地門鄉', '獅潭鄉', '三民區', '新營區', '中埔鄉', '褒忠鄉', '牡丹鄉', '新社區', '光復鄉', '西嶼鄉', '大武鄉', '南投市', '北區', '長治鄉', '員山鄉', '五股區', '泰武鄉', '頭屋鄉', '三重區', '古坑鄉', '石岡區', '南庄鄉', '水上鄉', '屏東市', '北屯區', '宜蘭市', '高樹鄉', '南化區', '苑裡鎮', '埔心鄉', '豐濱鄉', '北竿鄉', '中正區', '大雅區', '番路鄉', '枋寮鄉', '大寮區', '龍崎區', '美濃區', '仁武區', '彰化市', '平溪區', '安南區', '太保市', '北門區', '前鎮區', '莿桐鄉', '安定區', '楠梓區', '竹田鄉', '烏日區', '泰山區', '西螺鎮', '中區', '集集鎮', '萬榮鄉', '來義鄉', '田寮區', '東勢區', '左營區', '小港區', '其他', '琉球鄉', '大社區', '杉林區', '山上區'}\n",
      "SexName :  {'母', '無', '未知', '公'}\n",
      "ReasonName :  {'政府捕捉', '動物救援', '依法沒入', '其他', '收容所轉入', '不擬續養', '拾獲送交'}\n",
      "VarietyName :  {'貴賓', '北京犬', '波斯', '其他犬', '約克夏', '拉布拉多', '黃金獵犬', '混種', '獵狐梗', '古代牧羊犬', '英國查理士獵犬', '阿富汗', '傑克羅素', '哈士奇', '邊境牧羊犬', '伯恩山', '秋田', '加菲貓', '拉薩', '拳師犬', '比特', '豹貓', '雪納瑞', '混種狗', '博美', '喜樂蒂', '美國短毛貓', '狼犬', '巴戈', '英國短毛貓', '英國藍貓', '柴犬', '大麥町', '波士頓', '西高地白梗', '摺耳貓', '西施', '米格魯', '柯基', '金吉拉', '其他貓', '俄羅斯藍貓', '美國鬥牛犬', '混種貓', '暹羅貓', '敖犬', '牛頭梗', '日本種', '可卡', '吉娃娃', '梗犬', '鬆獅犬', '高山犬', '折耳貓', '馬爾濟斯', '狐狸', '大白熊', '寵物鼠', '大丹狗', '杜賓', '臘腸', '英國鬥牛犬', '268', '喜瑪拉雅', '寵物兔', '迷你品', '挪威納', '蝴蝶犬', '比熊', '法國鬥牛犬'}\n",
      "VarietyRemark :  {'蝴蝶犬+吉娃娃', '混暹羅', '混美短', '貴賓', '藍貓', '波斯', '黑貴賓', '土黑狗', '迷你杜檳', '混雪納瑞', '傑克羅素', '邊境牧羊犬', '似狼犬', '德國狼犬', '賓士貓', '似梗犬', '豹貓', '比利時種', '似吉娃娃', '比利時狼犬', '赫尼亞', '喜樂蒂', '混蝴蝶', '混梗', '疑似混到高砂犬', '西施', '似巴哥', '暹羅貓', '吉娃娃', '混種梗犬', '虎斑貓 ', '鬥牛犬', '杜賓', '英國鬥牛犬', '混種臘腸', '混貴賓', '混拉拉', '吉娃娃混約克夏', '迷你杜賓', '奶油臘腸', '威爾士柯基', '蛇', '刺蝟', '混種犬', '混牧羊犬', '可能混到德國狼犬', '三花', '尋血犬', '似瑪爾濟斯', '似拉不拉多', '混獒犬', '拉不拉多', '混種狼犬', '比特', '蜜袋鼯', '雪納瑞', '混西施', '混梗犬', '蘇格蘭折耳貓', '鸚鵡', '波斯頓梗犬', '似馬爾濟斯', '混金吉拉', '狼犬', '紅腿象龜', '金吉拉', '混種品種犬', '混種貓', '狼犬混哈士奇', '洛威那', '馬爾濟斯', '無', '混狼犬', '臘腸', '小杜賓', '鬥牛', '虎斑', '日本狆', '美國惡霸', '高加索犬', '混柴犬', '鴿子', '柴', '比熊', '比特犬', '挪威森林貓', '潘布魯克', '蘇格蘭梗', '松鼠', '銀', '博美混狐狸', '廠商測試', '加菲貓', '巴及度', '長毛臘腸', '混迷你品', '混米格魯', '迷你杜賓犬', '梗血統', '(德國牧羊犬)', '混高山犬', '喜馬拉雅貓', '比利犬', '黑貓', '混杜賓', '中國冠毛犬', '梗犬', '似獒犬', '惡霸', '長毛吉娃娃', '奶油貴賓', '似柴犬', '鴨', '牧羊犬', '法鬥混貴賓', '小型', '米克斯', '水牛', '長毛', '似西施', '拉布拉多', '文鳥', '混種', '混臘腸', '鵝', '巴哥犬', '蘇卡達龜', '累似杜賓犬', '鵝4隻', '似牧羊犬', '德國牧羊犬', '黑色貴賓', '混種柴', '狐狸犬', '混秋田', '混到米格魯', '長毛臘腸犬', '柴犬', '比特混波士頓犬', '似米格魯', '藍折耳貓', '類高山混比特', '靈緹', '赤柴', '高加索', '牛頭梗', '異國短毛貓', '捲耳貓', '虎斑貓', '羊', '紅貴賓', '很像混種犬', '瑪爾濟斯', '混', '微混比特犬', '黑色', '似臘腸', '品種說明', '似比特', '似比特 ', '兔子'}\n",
      "BuildName :  {'大', '小', '中'}\n",
      "Bodyweight :  {'0~5', '20以上', '10~15', '15~20', '無', '5~10'}\n",
      "Age2Name :  {'3至6月齡', '3至7歲', '1至3歲', '1至3月齡', '6月齡至1歲', '無', '未離乳', '7歲以上'}\n",
      "CoatName :  {'咖啡黑', '棕', '灰白', '三花', '黑白', '黃', '咖啡棕', '咖啡白', '虎斑白', '棕黑', '黑', '黑棕', '黑黃', '花', '黑虎斑', '無', '棕灰', '黃虎斑', '黑灰', '虎斑', '白', '花白', '咖啡', '黃白', '棕白', '灰', '米', '灰黑'}\n",
      "MouthCoat :  {'黃', '棕灰黑', '白', '其他', '無'}\n",
      "HeadCoat :  {'黃', '棕灰黑', '虎斑', '受傷', '白', '其他', '四眼', '黑白', '無'}\n",
      "ChestCoat :  {'棕黑毛', '其他', '黃毛', '白毛', '無'}\n",
      "FootCoat :  {'黃', '虎斑', '受傷', '棕灰黑', '白', '其他', '無'}\n",
      "EarCoat :  {'黃', '棕灰黑', '虎斑', '受傷', '其他', '剪/缺/折/立/垂耳', '無'}\n",
      "BackCoat :  {'棕灰黑', '受傷', '白', '其他', '斑點', '無'}\n",
      "TailCoat :  {'無尾', '棕灰黑', '有病', '白', '其他', '截尾', '麒麟尾', '斑點', '無'}\n",
      "CollarName :  {'無項圈', '有項圈'}\n",
      "ThoracodorsalName :  {'有衣服', '無衣服'}\n",
      "AdoptionName :  {'暫時不適合', '待認領', '適合認養'}\n",
      "NotAdoptionName :  {'無'}\n",
      "_Situation2Name :  {'認養', '疾病死亡', '人道處理第12條第1項第5款', '原地飭回', '其他', '認領', '收容所轉出', '人道處理第12條第1項第7款', '人道處理其他法令授權', '逃脫', '無', '生理耗弱死亡', '人道處理第12條第1項第3款'}\n",
      "SituationRemark :  {'無'}\n",
      "StatusName :  {'疾病死亡', '認領養', '其他', '原地飭回', '無', '生理耗弱死亡', '安樂死', '逃跑'}\n",
      "IsSterilizationName :  {'是', '未確定'}\n",
      "EarNoteName :  {'無', '左剪耳', '右剪耳'}\n",
      "LengthCoatName :  {'長毛', '未修剪過', '短毛', '無', '中長毛'}\n",
      "HealthStatusName :  {'疫苗', '其它', '異常', '寄生蟲', '正常', '無'}\n",
      "StopDays :  {0, 1, 2, 3, 4, 5, 6, 7, 8, 9, 10, 11, 12, 13, 14, 15, 16, 17, 18, 19, 20, 21, 22, 23, 24, 25, 26, 27, 28, 29, 30, 31, 32, 33, 34, 35, 36, 37, 38, 39, 40, 41, 42, 43, 44, 45, 46, 47, 48, 49, 50, 51, 52, 53, 54, 55, 56, 57, 58, 59, 60, 61, 62, 63, 64, 65, 66, 67, 68, 69, 70, 71, 72, 73, 74, 75, 76, 77, 78, 79, 80, 81, 82, 83, 84, 85, 86, 87, 88, 89, 90, 91, 92, 93, 94, 95, 96, 97, 98, 99, 100, 101, 102, 103, 104, 105, 106, 107, 108, 109, 110, 111, 112, 113, 114, 115, 116, 117, 118, 119, 120, 121, 122, 123, 124, 125, 126, 127, 128, 129, 130, 131, 132, 133, 134, 135, 136, 137, 138, 139, 140, 141, 142, 143, 144, 145, 146, 147, 148, 149, 150, 151, 152, 153, 154, 155, 156, 157, 158, 159, 160, 161, 162, 163, 164, 165, 166, 167, 168, 169, 170, 171, 172, 2219, 174, 175, 176, 177, 178, 179, 180, 181, 182, 183, 184, 185, 186, 187, 188, 189, 190, 191, 192, 193, 194, 195, 196, 197, 198, 199, 200, 201, 202, 203, 204, 205, 206, 207, 208, 209, 210, 211, 212, 213, 214, 215, 216, 217, 218, 219, 220, 221, 222, 223, 224, 225, 226, 227, 228, 229, 230, 231, 232, 233, 234, 2279, 236, 237, 238, 239, 235, 241, 242, 243, 244, 245, 246, 247, 248, 249, 250, 251, 252, 253, 254, 255, 256, 257, 258, 259, 260, 261, 262, 263, 264, 265, 266, 267, 268, 269, 270, 271, 272, 273, 274, 275, 276, 277, 278, 279, 280, 281, 282, 283, 284, 285, 286, 287, 288, 289, 290, 291, 292, 293, 294, 295, 296, 297, 298, 299, 300, 301, 302, 303, 304, 305, 306, 307, 308, 309, 310, 311, 312, 313, 314, 315, 316, 317, 318, 319, 320, 321, 322, 323, 324, 325, 326, 327, 328, 329, 330, 331, 332, 333, 334, 335, 336, 337, 338, 339, 340, 341, 342, 343, 344, 345, 346, 347, 348, 349, 350, 351, 352, 353, 354, 355, 356, 357, 358, 359, 360, 361, 362, 2107, 364, 365, 366, 363, 368, 369, 370, 371, 372, 373, 374, 375, 376, 377, 378, 379, 380, 381, 382, 383, 384, 385, 386, 387, 388, 389, 390, 391, 392, 393, 394, 395, 396, 397, 398, 399, 400, 401, 402, 403, 404, 405, 406, 407, 408, 409, 410, 411, 412, 413, 414, 415, 416, 417, 418, 419, 420, 421, 422, 423, 424, 425, 426, 427, 428, 429, 2052, 430, 432, 433, 434, 435, 436, 437, 438, 439, 440, 441, 442, 443, 444, 445, 446, 447, 448, 449, 450, 451, 452, 453, 454, 455, 456, 457, 458, 459, 460, 461, 462, 463, 464, 465, 466, 467, 468, 469, 470, 471, 472, 473, 474, 475, 476, 477, 478, 479, 480, 481, 482, 483, 484, 485, 486, 487, 488, 489, 490, 491, 492, 494, 495, 496, 497, 498, 499, 500, 501, 502, 503, 504, 505, 506, 507, 508, 509, 510, 511, 512, 513, 514, 516, 517, 518, 519, 520, 521, 523, 524, 525, 526, 527, 528, 529, 530, 531, 532, 533, 534, 536, 537, 538, 539, 540, 541, 542, 543, 545, 546, 547, 548, 549, 550, 551, 552, 553, 555, 556, 557, 558, 559, 560, 561, 2609, 563, 564, 565, 562, 567, 568, 569, 566, 570, 572, 573, 574, 575, 576, 577, 579, 580, 581, 582, 583, 584, 586, 588, 591, 592, 593, 594, 595, 596, 597, 602, 603, 604, 605, 606, 607, 608, 609, 610, 611, 612, 613, 614, 615, 616, 617, 618, 619, 620, 621, 622, 623, 625, 626, 627, 628, 629, 630, 631, 632, 633, 634, 635, 636, 637, 639, 640, 642, 643, 644, 645, 646, 647, 648, 649, 650, 651, 652, 653, 654, 655, 657, 659, 660, 661, 662, 663, 664, 665, 666, 667, 668, 669, 670, 671, 672, 673, 674, 675, 677, 678, 679, 680, 681, 682, 683, 684, 685, 686, 687, 688, 689, 690, 691, 692, 693, 694, 695, 696, 698, 699, 700, 701, 702, 703, 704, 705, 706, 707, 708, 709, 711, 712, 715, 716, 717, 718, 719, 721, 722, 724, 726, 727, 728, 729, 731, 733, 734, 735, 736, 737, 739, 740, 741, 742, 743, 744, 745, 746, 747, 748, 749, 750, 751, 752, 755, 756, 757, 758, 759, 760, 761, 762, 763, 765, 766, 767, 768, 769, 770, 772, 773, 774, 777, 778, 780, 781, 783, 784, 785, 786, 788, 789, 790, 791, 796, 797, 798, 800, 802, 803, 804, 805, 807, 809, 811, 812, 813, 814, 816, 818, 819, 820, 822, 824, 825, 828, 829, 830, 831, 832, 835, 838, 841, 842, 843, 844, 845, 846, 847, 849, 853, 855, 856, 857, 858, 859, 860, 861, 862, 863, 865, 866, 867, 868, 173, 873, 876, 2070, 881, 882, 883, 884, 887, 888, 891, 892, 893, 895, 897, 899, 900, 902, 905, 906, 915, 916, 917, 918, 919, 922, 923, 927, 929, 930, 931, 932, 934, 936, 938, 939, 943, 945, 947, 949, 951, 953, 955, 957, 958, 959, 961, 964, 965, 966, 967, 969, 970, 972, 973, 974, 975, 977, 978, 979, 981, 983, 984, 431, 990, 992, 994, 995, 999, 1000, 1001, 1005, 1007, 1008, 1010, 1016, 1017, 1018, 1020, 1022, 1024, 1027, 1028, 1029, 1033, 1034, 1042, 1043, 1046, 1048, 1050, 1054, 1056, 1058, 1059, 1062, 1064, 1065, 1066, 1071, 1073, 1074, 1075, 1076, 1078, 1079, 1080, 2078, 1081, 1084, 1090, 1093, 1095, 1097, 1102, 1105, 1108, 1109, 1113, 1117, 1118, 1120, 1124, 1126, 1127, 1134, 1136, 1137, 1138, 1148, 1150, 1151, 1155, 1156, 1161, 1163, 1171, 1175, 1176, 1178, 1179, 1182, 1185, 1186, 1189, 1192, 1194, 1204, 1205, 1207, 1208, 240, 1213, 1215, 1216, 1223, 1224, 1226, 1234, 1235, 1238, 1253, 1266, 1270, 1273, 1275, 1300, 1310, 1319, 1324, 1327, 1329, 1336, 1338, 1343, 1353, 1361, 1362, 1367, 1371, 1377, 1384, 1387, 1389, 1393, 1417, 1422, 1432, 1435, 1449, 1454, 1479, 1482, 1489, 1523, 1529, 1532, 1554, 1567, 1572, 1583, 1590, 1594, 1598, 1607, 1614, 1631, 1639, 1663, 1686, 1696, 1736, 1745, 1754, 1757, 1763, 1764, 1786, 1796, 1826, 1828, 1830, 1841, 367, 1861, 1877, 1892, 1937, 2020}\n",
      "Behavior85 :  {0, 1}\n",
      "Behavior87 :  {0, 1}\n",
      "Behavior90 :  {0, 1}\n",
      "Behavior89 :  {0, 1}\n",
      "Behavior83 :  {0, 1}\n",
      "Behavior84 :  {0, 1}\n",
      "Behavior86 :  {0, 1}\n",
      "Behavior88 :  {0, 1}\n",
      "Behavior無 :  {0, 1}\n"
     ]
    }
   ],
   "source": [
    "for col in raw.columns:\n",
    "    if col in ['InImage','ImageNameStr','FrontImageName']:\n",
    "        continue\n",
    "    print(col+' : ', set(raw[col]))\n",
    "#     print(i, sum([True if re.search(i, x) else False for x in raw['TailCoat']]))"
   ]
  },
  {
   "cell_type": "code",
   "execution_count": 120,
   "metadata": {},
   "outputs": [],
   "source": [
    "raw.to_csv('clean.csv', index=False)"
   ]
  },
  {
   "cell_type": "code",
   "execution_count": null,
   "metadata": {},
   "outputs": [],
   "source": []
  }
 ],
 "metadata": {
  "kernelspec": {
   "display_name": "Python 3",
   "language": "python",
   "name": "python3"
  },
  "language_info": {
   "codemirror_mode": {
    "name": "ipython",
    "version": 3
   },
   "file_extension": ".py",
   "mimetype": "text/x-python",
   "name": "python",
   "nbconvert_exporter": "python",
   "pygments_lexer": "ipython3",
   "version": "3.7.4"
  }
 },
 "nbformat": 4,
 "nbformat_minor": 2
}
