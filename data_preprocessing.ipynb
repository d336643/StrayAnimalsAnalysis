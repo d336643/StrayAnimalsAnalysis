{
 "cells": [
  {
   "cell_type": "code",
   "execution_count": 1,
   "metadata": {},
   "outputs": [],
   "source": [
    "import pandas as pd\n",
    "import numpy as np\n",
    "import statistics\n",
    "import datetime\n",
    "import re"
   ]
  },
  {
   "cell_type": "code",
   "execution_count": 11,
   "metadata": {},
   "outputs": [
    {
     "name": "stderr",
     "output_type": "stream",
     "text": [
      "/Users/eunicheng/opt/anaconda3/lib/python3.7/site-packages/IPython/core/interactiveshell.py:3058: DtypeWarning: Columns (14,20,28,31,32,56,68,69,72,73,76,77,78,80,81,82,83,84,86,104,105,106) have mixed types. Specify dtype option on import or set low_memory=False.\n",
      "  interactivity=interactivity, compiler=compiler, result=result)\n"
     ]
    }
   ],
   "source": [
    "raw = pd.read_csv(\"data.csv\")\n",
    "# set(raw.columns)"
   ]
  },
  {
   "cell_type": "code",
   "execution_count": 12,
   "metadata": {},
   "outputs": [],
   "source": [
    "#刪掉無資訊、明顯無相關的欄位\n",
    "saved_columns = [\n",
    " 'TypeIdName', #('其他', '犬', '貓')\n",
    " 'AcceptDate', #被領養日期？\n",
    " 'DistrictTeamName',\n",
    " 'SexName',#{'none', '公', '未知', '母'}\n",
    " 'ReasonName',#{nan, '不擬續養', '依法沒入', '其他', '動物救援', '拾獲送交', '收容所轉入', '政府捕捉'}\n",
    " 'VarietyName',#種類，阿富汗、馬爾濟斯...71種，其中兩個是數字268,269\n",
    " 'VarietyRemark',#更細的種類，沒有救NaN\n",
    " 'BuildName',#體型名稱{'1', '中', '大', '小'}\n",
    " 'Bodyweight',#超亂，setlen=12135, nan, NaN, 13~15, 2公斤, 4....\n",
    " 'Age2Name',#{'1至3月齡', '1至3歲', '3至6月齡', '3至7歲', '6月齡至1歲', '7歲以上', nan, 'none', '未離乳'}\n",
    " 'CoatName',#毛色，28種，包括'none'\n",
    " 'MouthCoat',#亂，nan,'string', '鼻上方有一咖啡色胎記', '黑嘴','黑嘴    '\n",
    " 'HeadCoat',# 亂，set多個nan???\n",
    " 'ChestCoat',#亂，nan, 'string'...\n",
    " 'FootCoat',#亂，nan, 'string'...\n",
    " 'EarCoat',# 亂，set多個nan???\n",
    " 'BackCoat',# 亂，set多個nan???\n",
    " 'TailCoat',#亂，nan,'string',\n",
    " 'CollarName',#項圈顏色{'none', '其他', '棕色', '無', '白色', '粉紅色', '紅色', '花色', '藍色', '銀色', '黃色', '黑色'}\n",
    "#  'CollarRemark',#項圈特徵\n",
    " 'ThoracodorsalName',#胸甲(衣服)顏色{'none', '其他', '棕色', '無', '白色', '紅色', '花色', '藍色', '黃色', '黑色'}\n",
    "#  'ThoracodorsalRemark',#多，胸甲(衣服)特徵\n",
    " 'AdoptionName',#{'待認領', '暫時不適合', '適合認養'}\n",
    " 'NotAdoptionName',#{'none', '健康不適', '動保案件', '年紀不適', '行為不適'}\n",
    " '_Situation2Name',#{'none','人道處理其他法令授權','人道處理第12條第1項第3款','人道處理第12條第1項第5款', '人道處理第12條第1項第7款', '其他','原地飭回','收容所轉出','生理耗弱死亡','疾病死亡','認領','認養','逃脫'}\n",
    " 'SituationRemark',#認養狀態備註\n",
    " 'StatusName',#{'sNull', '其他', '原地飭回', '安樂死', '生理耗弱死亡', '疾病死亡', '認領養', '逃跑'}\n",
    "#  'Address',\n",
    " 'IsSterilizationName',#{'是', '未確定'}\n",
    "#  'SterilizationDate',\n",
    " 'EarNoteName',#{'none', '右剪耳', '左剪耳'}\n",
    "#  'Note',#超雜\n",
    " 'LengthCoatName',#{'none', '中長毛', '未修剪過', '短毛', '長毛'}\n",
    " 'HealthStatusName',#{'none', '其它', '寄生蟲', '正常', '異常', '疫苗'}\n",
    "#  'HealthStatusRemark',#超多受傷原因\n",
    " 'Behavior',#幾種數字，但還不知道數字代表的意思\n",
    "#  'BehaviorRemark',#超多行為描述\n",
    " 'InImage',\n",
    " 'ImageNameStr',\n",
    " 'FrontImageName',\n",
    "#  'VaccineDate', #沒填示沒打過疫苗？\n",
    "#  'ShelterName',\n",
    "#  'VillageID',\n",
    "#  'VillageName',\n",
    " 'FinalDate'#領養日期\n",
    "]\n",
    "raw = raw[saved_columns]"
   ]
  },
  {
   "cell_type": "code",
   "execution_count": 13,
   "metadata": {},
   "outputs": [
    {
     "name": "stdout",
     "output_type": "stream",
     "text": [
      "Before rm na: (115267, 34)\n",
      "FinalDate (115267, 34)\n",
      "ReasonName (115261, 34)\n",
      "Aefore rm na: (115261, 34)\n"
     ]
    }
   ],
   "source": [
    "#dropna columns\n",
    "dropna_col = ['FinalDate','ReasonName']\n",
    "# replacenan_col = ['DistrictTeamName', 'VarietyRemark','Bodyweight',\n",
    "#                   'MouthCoat','HeadCoat','ChestCoat','FootCoat','EarCoat',\n",
    "#                   'BackCoat','TailCoat','HealthStatusRemark','BehaviorRemark','CollarRemark',\n",
    "#                   'ThoracodorsalRemark','SituationRemark','Behavior','VillageName']\n",
    "print(\"Before rm na:\", raw.shape)\n",
    "\n",
    "for d_col in dropna_col:\n",
    "    raw=raw[raw[d_col].notna()]\n",
    "    print(d_col, raw.shape)\n",
    "raw.fillna('無', inplace=True)\n",
    "raw.replace('none', '無', inplace=True)\n",
    "raw['StatusName'].replace('sNull', '無', inplace=True)\n",
    "print(\"Aefore rm na:\", raw.shape)"
   ]
  },
  {
   "cell_type": "code",
   "execution_count": 14,
   "metadata": {},
   "outputs": [
    {
     "name": "stdout",
     "output_type": "stream",
     "text": [
      "After cleaning dirty data: (107115, 33)\n"
     ]
    }
   ],
   "source": [
    "#[Staydays]\n",
    "raw['AcceptDate'] = [datetime.datetime.strptime(x, \"%Y-%m-%dT%H:%M:%S\") for x in raw['AcceptDate']] \n",
    "raw['FinalDate'] = [datetime.datetime.strptime(x, \"%Y-%m-%dT%H:%M:%S\") for x in raw['FinalDate']] \n",
    "raw[\"StayDays\"] = raw[\"FinalDate\"]-raw['AcceptDate']\n",
    "raw['StayDays'] = [x.days for x in raw['StayDays']] \n",
    "#[Staydays] 清掉未被領養的資料\n",
    "raw = raw[raw['StayDays']>=0]\n",
    "raw.drop(columns=['AcceptDate', 'FinalDate'], inplace=True)\n",
    "\n",
    "#[SexName]clean\n",
    "raw[\"SexName\"].replace({\"none\": \"未知\"}, inplace=True)\n",
    "#VarietyName=>268,269清掉？\n",
    "\n",
    "#[BuildName]clean\n",
    "raw = raw[raw[\"BuildName\"] != '1']\n",
    "#[VarietyRemark]clean\n",
    "tmp = [False if x in ['0','MIX','mix','string'] else True for x in raw['VarietyRemark']]\n",
    "raw = raw[tmp]\n",
    "\n",
    "print(\"After cleaning dirty data:\", raw.shape)"
   ]
  },
  {
   "cell_type": "code",
   "execution_count": 15,
   "metadata": {},
   "outputs": [
    {
     "name": "stdout",
     "output_type": "stream",
     "text": [
      "After cleaning dirty data: (107088, 33)\n"
     ]
    }
   ],
   "source": [
    "#[Bodyweight]clean\n",
    "tmp = [False if x in ['strin','東22','１',''] else True for x in raw['Bodyweight']]\n",
    "raw = raw[tmp]\n",
    "raw['Bodyweight'] = [str(x).replace('K', '').replace('G', '').replace('k', '').replace('g', '').replace('<', '').replace('-', '~').replace('ｋｇ', '').replace('公斤', '').replace('以上', '').replace('以下', '').replace('體重', '').replace('胖', '20').strip(\". \") for x in raw['Bodyweight']]\n",
    "tmp = []\n",
    "for x in raw['Bodyweight']:\n",
    "        if x == \"無\" or x == '':\n",
    "            tmp.append(\"無\")\n",
    "            continue\n",
    "        if x.find(\"~\") != -1:\n",
    "            tmp.append(statistics.mean([float(y) for y in x.split(\"~\")]))\n",
    "        else:\n",
    "            tmp.append(float(x))\n",
    "raw['Bodyweight'] = tmp\n",
    "#[Bodyweight]remove outlier\n",
    "tmp = np.array([x for x in tmp if x != \"無\"])\n",
    "Q1= np.mean(tmp)-2*np.std(tmp)\n",
    "Q3= np.mean(tmp)+2*np.std(tmp)\n",
    "raw = raw[[True if x == \"無\" or (x >= Q1 and x <= Q3) else False for x in raw['Bodyweight']]]\n",
    "#[Bodyweight]convert to category(0~5, 5~10, 10~15...20以上)\n",
    "tmp = []\n",
    "for x in raw['Bodyweight']:\n",
    "    if x == \"無\":\n",
    "        tmp.append(\"無\")\n",
    "    elif x > 0 and x <= 5:\n",
    "        tmp.append(\"0~5\")\n",
    "    elif x > 5 and x <= 10:\n",
    "        tmp.append(\"5~10\")\n",
    "    elif x > 10 and x <= 15:\n",
    "        tmp.append(\"10~15\")\n",
    "    elif x > 15 and x <= 20:\n",
    "        tmp.append(\"15~20\")\n",
    "    else:\n",
    "        tmp.append(\"20以上\")\n",
    "raw['Bodyweight'] = tmp\n",
    "\n",
    "print(\"After cleaning dirty data:\", raw.shape)"
   ]
  },
  {
   "cell_type": "markdown",
   "metadata": {},
   "source": [
    "# Coat 如何切分特徵，同時有多個特徵？\n",
    "\n",
    "### 橘貓很受歡迎？？？"
   ]
  },
  {
   "cell_type": "code",
   "execution_count": 16,
   "metadata": {},
   "outputs": [
    {
     "name": "stdout",
     "output_type": "stream",
     "text": [
      "ChestCoat:\n",
      "其他 172\n",
      "黃毛 7\n",
      "無 106445\n",
      "棕黑毛 7\n",
      "白毛 457\n",
      "\n",
      "MouthCoat:\n",
      "白 109\n",
      "其他 179\n",
      "黃 5\n",
      "無 106579\n",
      "棕灰黑 216\n",
      "\n",
      "HeadCoat:\n",
      "黑白 3\n",
      "白 16\n",
      "其他 186\n",
      "黃 26\n",
      "四眼 63\n",
      "受傷 9\n",
      "無 106731\n",
      "虎斑 19\n",
      "棕灰黑 38\n",
      "\n",
      "FootCoat:\n",
      "白 319\n",
      "其他 180\n",
      "黃 95\n",
      "受傷 41\n",
      "無 106330\n",
      "虎斑 78\n",
      "棕灰黑 45\n",
      "\n",
      "EarCoat:\n",
      "其他 170\n",
      "黃 15\n",
      "受傷 7\n",
      "無 106710\n",
      "虎斑 7\n",
      "剪/缺/折/立/垂耳 155\n",
      "棕灰黑 24\n",
      "\n",
      "BackCoat:\n",
      "白 16\n",
      "其他 183\n",
      "受傷 9\n",
      "無 106836\n",
      "斑點 12\n",
      "棕灰黑 32\n",
      "\n",
      "TailCoat:\n",
      "麒麟尾 52\n",
      "白 9\n",
      "無尾 5\n",
      "其他 183\n",
      "有病 2\n",
      "無 106746\n",
      "斑點 7\n",
      "截尾 58\n",
      "棕灰黑 31\n",
      "\n"
     ]
    }
   ],
   "source": [
    "#ChestCoat\n",
    "raw['ChestCoat'] = [\"白毛\" if x.find(\"白\")!=-1 else x for x in raw['ChestCoat']] #496 objs\n",
    "raw['ChestCoat'] = [\"黃毛\" if x.find(\"黃\")!=-1 else x for x in raw['ChestCoat']] #7 objs\n",
    "raw['ChestCoat'] = [\"棕黑毛\" if re.search('咖啡|黑|棕', x) else x for x in raw['ChestCoat']] #9 objs\n",
    "raw['ChestCoat'] = [x if (x == \"無\" or re.search('白毛|黃毛|棕黑毛', x)) else \"其他\" for x in raw['ChestCoat']]\n",
    "print(\"ChestCoat:\")\n",
    "for i in set(raw['ChestCoat']):\n",
    "    print(i, sum([True if re.search(i, x) else False for x in raw['ChestCoat']]))\n",
    "print()\n",
    "\n",
    "#MouthCoat\n",
    "raw['MouthCoat'] = [\"白\" if x.find(\"白\")!=-1 else x for x in raw['MouthCoat']] #117 objs\n",
    "raw['MouthCoat'] = [\"黃\" if x.find(\"黃\")!=-1 else x for x in raw['MouthCoat']] #9 objs\n",
    "raw['MouthCoat'] = [\"棕灰黑\" if re.search('咖啡|黑|棕|灰', x) else x for x in raw['MouthCoat']] #242 objs\n",
    "raw['MouthCoat'] = [x if (x == \"無\" or re.search('白|黃|棕灰黑', x)) else \"其他\" for x in raw['MouthCoat']]\n",
    "print(\"MouthCoat:\")\n",
    "for i in set(raw['MouthCoat']):\n",
    "    print(i, sum([True if re.search(i, x) else False for x in raw['MouthCoat']]))\n",
    "print()\n",
    "\n",
    "#HeadCoat\n",
    "raw['HeadCoat'] = [\"虎斑\" if re.search('虎斑|虎班', x) else x for x in raw['HeadCoat']] #23 objs\n",
    "raw['HeadCoat'] = [\"黑白\" if re.search('黑.*白', x) else x for x in raw['HeadCoat']] #4 objs\n",
    "raw['HeadCoat'] = [\"棕灰黑\" if (re.search('咖啡|黑|棕|灰', x) and x != \"黑白\") else x for x in raw['HeadCoat']] #41 objs\n",
    "raw['HeadCoat'] = [\"受傷\" if re.search('傷|浮腫|受傷|車禍|獨眼|白內障', x) else x for x in raw['HeadCoat']] #10 objs\n",
    "raw['HeadCoat'] = [\"四眼\" if re.search('四目|四眼', x) else x for x in raw['HeadCoat']] #66 objs\n",
    "raw['HeadCoat'] = [\"白\" if (x.find(\"白\")!=-1 and x != \"黑白\") else x for x in raw['HeadCoat']] #18 objs\n",
    "raw['HeadCoat'] = [\"黃\" if x.find(\"黃\")!=-1 else x for x in raw['HeadCoat']] #29 objs\n",
    "raw['HeadCoat'] = [x if (x == \"無\" or re.search('虎斑|黑白|棕灰黑|受傷|四眼|白|黃', x)) else \"其他\" for x in raw['HeadCoat']]\n",
    "print(\"HeadCoat:\")\n",
    "for i in set(raw['HeadCoat']):\n",
    "    print(i, sum([True if re.search(i, x) else False for x in raw['HeadCoat']]))\n",
    "print()\n",
    "\n",
    "#FootCoat\n",
    "raw['FootCoat'] = [\"受傷\" if re.search('傷|截|不良於行|骨折|斷裂|缺|腫瘤|斷|脫臼|尺骨外露|跛行|三腳|後癱|癱瘓|畸形|短|無力', x) else x for x in raw['FootCoat']] #10 objs\n",
    "raw['FootCoat'] = [\"虎斑\" if re.search('虎斑|虎班|斑紋', x) else x for x in raw['FootCoat']] #23 objs\n",
    "raw['FootCoat'] = [\"白\" if x.find(\"白\")!=-1 else x for x in raw['FootCoat']] #18 objs\n",
    "raw['FootCoat'] = [\"棕灰黑\" if re.search('咖啡|黑|棕|灰', x) else x for x in raw['FootCoat']] #23 objs\n",
    "raw['FootCoat'] = [\"黃\" if x.find(\"黃\")!=-1 else x for x in raw['FootCoat']] #18 objs\n",
    "raw['FootCoat'] = [x if (x == \"無\" or re.search('虎斑|白|棕灰黑|受傷|黃', x)) else \"其他\" for x in raw['FootCoat']]\n",
    "print(\"FootCoat:\")\n",
    "for i in set(raw['FootCoat']):\n",
    "    print(i, sum([True if re.search(i, x) else False for x in raw['FootCoat']]))\n",
    "print()\n",
    "\n",
    "#EarCoat\n",
    "raw['EarCoat'] = [\"剪/缺/折/立/垂耳\" if re.search('垂|剪|折|缺|立|摺|聳', x) else x for x in raw['EarCoat']] #10 objs\n",
    "raw['EarCoat'] = [\"受傷\" if re.search('左耳皺|皮膚炎|長瘤', x) else x for x in raw['EarCoat']] #23 objs\n",
    "raw['EarCoat'] = [\"虎斑\" if re.search('虎斑|虎班|斑紋', x) else x for x in raw['EarCoat']] #23 objs\n",
    "raw['EarCoat'] = [\"棕灰黑\" if re.search('咖啡|黑|棕|灰', x) else x for x in raw['EarCoat']] #23 objs\n",
    "raw['EarCoat'] = [\"黃\" if x.find(\"黃\")!=-1 else x for x in raw['EarCoat']] #18 objs\n",
    "raw['EarCoat'] = [x if (x == \"無\" or re.search('虎斑|缺|棕灰黑|受傷|黃', x)) else \"其他\" for x in raw['EarCoat']]\n",
    "print(\"EarCoat:\")\n",
    "for i in set(raw['EarCoat']):\n",
    "    print(i, sum([True if re.search(i, x) else False for x in raw['EarCoat']]))\n",
    "print()\n",
    "\n",
    "#BackCoat\n",
    "raw['BackCoat'] = [\"受傷\" if re.search('皮膚病|傷|突出物', x) else x for x in raw['BackCoat']]\n",
    "raw['BackCoat'] = [\"斑點\" if re.search('虎斑|虎班|斑紋|斑', x) else x for x in raw['BackCoat']]\n",
    "raw['BackCoat'] = [\"白\" if re.search('白', x) else x for x in raw['BackCoat']]\n",
    "raw['BackCoat'] = [\"棕灰黑\" if re.search('咖啡|黑|棕|灰', x)  else x for x in raw['BackCoat']] \n",
    "raw['BackCoat'] = [x if (x == \"無\" or re.search('斑點|棕灰黑|受傷|白', x)) else \"其他\" for x in raw['BackCoat']]\n",
    "print(\"BackCoat:\")\n",
    "for i in set(raw['BackCoat']):\n",
    "    print(i, sum([True if re.search(i, x) else False for x in raw['BackCoat']]))\n",
    "print()\n",
    "\n",
    "#TailCoat\n",
    "raw['TailCoat'] = [\"有病\" if re.search('皮膚病|肉瘤', x) else x for x in raw['TailCoat']]\n",
    "raw['TailCoat'] = [\"截尾\" if re.search('截|剪尾|半短|折尾|斷|短|半尾', x) else x for x in raw['TailCoat']]\n",
    "raw['TailCoat'] = [\"無尾\" if re.search('無尾', x) else x for x in raw['TailCoat']]\n",
    "raw['TailCoat'] = [\"斑點\" if re.search('虎斑|虎班|斑紋|斑', x) else x for x in raw['TailCoat']]\n",
    "raw['TailCoat'] = [\"麒麟尾\" if re.search('麒麟', x) else x for x in raw['TailCoat']]\n",
    "raw['TailCoat'] = [\"鐮刀尾\" if re.search('鐮刀', x) else x for x in raw['TailCoat']]\n",
    "raw['TailCoat'] = [\"白\" if re.search('白', x) else x for x in raw['TailCoat']]\n",
    "raw['TailCoat'] = [\"棕灰黑\" if re.search('咖啡|黑|棕|灰', x)  else x for x in raw['TailCoat']] \n",
    "raw['TailCoat'] = [x if (x == \"無\" or re.search('斑點|棕灰黑|有病|白|截尾|無尾|麒麟尾|鐮刀尾', x)) else \"其他\" for x in raw['TailCoat']]\n",
    "print(\"TailCoat:\")\n",
    "set(raw['TailCoat'])\n",
    "for i in set(raw['TailCoat']):\n",
    "    print(i, sum([True if re.search(i, x) else False for x in raw['TailCoat']]))\n",
    "print()"
   ]
  },
  {
   "cell_type": "code",
   "execution_count": 17,
   "metadata": {},
   "outputs": [],
   "source": [
    "#有無項圈\n",
    "raw['CollarName'] = [\"無項圈\" if x == \"無\" else \"有項圈\" for x in raw['CollarName']]\n",
    "#有無衣服\n",
    "raw['ThoracodorsalName'] = [\"無衣服\" if x == \"無\" else \"有衣服\" for x in raw['ThoracodorsalName']]"
   ]
  },
  {
   "cell_type": "markdown",
   "metadata": {},
   "source": [
    "# NotAdoptionName有標注的欄位都刪掉？"
   ]
  },
  {
   "cell_type": "code",
   "execution_count": 18,
   "metadata": {
    "scrolled": true
   },
   "outputs": [
    {
     "name": "stdout",
     "output_type": "stream",
     "text": [
      "{'行為不適', '年紀不適', '無', '動保案件', '健康不適'}\n",
      "rm [NotAdoptionName], data shape (100550, 33)\n"
     ]
    }
   ],
   "source": [
    "#每隻動物都被領養了嗎？？？因為有NotAdoptionName這個欄位\n",
    "print(set(raw['NotAdoptionName']))\n",
    "raw = raw[raw['NotAdoptionName']=='無']\n",
    "print(\"rm [NotAdoptionName], data shape\", raw.shape)"
   ]
  },
  {
   "cell_type": "markdown",
   "metadata": {},
   "source": [
    "# SituationRemark有標注的欄位都刪掉？"
   ]
  },
  {
   "cell_type": "code",
   "execution_count": 19,
   "metadata": {},
   "outputs": [
    {
     "name": "stdout",
     "output_type": "stream",
     "text": [
      "rm [SituationRemark], data shape (82817, 33)\n"
     ]
    }
   ],
   "source": [
    "# print(set(raw['SituationRemark']))\n",
    "raw = raw[raw['SituationRemark']=='無']\n",
    "print(\"rm [SituationRemark], data shape\", raw.shape)"
   ]
  },
  {
   "cell_type": "markdown",
   "metadata": {},
   "source": [
    "# IsSterilizationName'填的有{'是', '未確定'}，填是的有14834筆，SterilizationDate 有填的9961筆\n",
    "\n",
    "\n",
    "### 要保留IsSterilizationName這個欄位就好嗎？"
   ]
  },
  {
   "cell_type": "code",
   "execution_count": 21,
   "metadata": {},
   "outputs": [],
   "source": [
    "# print(sum([True if x!='0001-01-01T00:00:00' else False for x in raw['SterilizationDate']]))\n",
    "# print(sum([True if x=='是' else False for x in raw['IsSterilizationName']]))\n",
    "# set(raw['SterilizationDate'])"
   ]
  },
  {
   "cell_type": "markdown",
   "metadata": {},
   "source": [
    "#  備註欄位直接刪掉？內容大致為三類（病因、外觀、各種阿里阿咂），其中病因佔多數"
   ]
  },
  {
   "cell_type": "code",
   "execution_count": 22,
   "metadata": {},
   "outputs": [],
   "source": [
    "# print(sum([True if x=='無' else False for x in raw['Note']]))\n",
    "# set(raw['Note'])"
   ]
  },
  {
   "cell_type": "code",
   "execution_count": 23,
   "metadata": {},
   "outputs": [],
   "source": [
    "# set(raw['HealthStatusName'])\n",
    "# print(sum([True if x=='無' else False for x in raw['HealthStatusName']]))"
   ]
  },
  {
   "cell_type": "markdown",
   "metadata": {},
   "source": [
    "#  健康狀態備註欄位直接刪掉？\n",
    "- 絕育(佔多數)(紮)\n",
    "- 病因or缺陷\n",
    "- 疫苗（CCV\\CPV\\FIV\\五合一）\n",
    "- 驅蟲藥\n",
    "- 幼犬奶貓"
   ]
  },
  {
   "cell_type": "code",
   "execution_count": 24,
   "metadata": {},
   "outputs": [],
   "source": [
    "# set(raw['HealthStatusRemark'])\n",
    "# print(sum([True if x=='無' else False for x in raw['HealthStatusRemark']]))"
   ]
  },
  {
   "cell_type": "markdown",
   "metadata": {},
   "source": [
    "# [Behavior]可以有多種category，切成01表"
   ]
  },
  {
   "cell_type": "code",
   "execution_count": 25,
   "metadata": {},
   "outputs": [],
   "source": [
    "tmp = []\n",
    "for a in raw['Behavior']:\n",
    "    tmp += [x for x in a.split(\", \")]\n",
    "health_types = set(tmp)\n",
    "for i in health_types:\n",
    "    health_types_col = []\n",
    "    for a in raw['Behavior']:\n",
    "        if i in a:\n",
    "            health_types_col.append(1)\n",
    "        else:\n",
    "            health_types_col.append(0)\n",
    "    raw['Behavior'+i] = health_types_col\n",
    "raw.drop(columns=['Behavior'], inplace=True)"
   ]
  },
  {
   "cell_type": "code",
   "execution_count": 27,
   "metadata": {},
   "outputs": [
    {
     "name": "stdout",
     "output_type": "stream",
     "text": [
      "TypeIdName :  {'貓', '犬', '其他'}\n",
      "DistrictTeamName :  {'臺東市', '崁頂鄉', '鳳林鎮', '信義鄉', '文山區', '望安鄉', '鹿野鄉', '永安區', '林園區', '東勢區', '高樹鄉', '瑪家鄉', '伸港鄉', '壯圍鄉', '大甲區', '湖西鄉', '和美鎮', '員林市', '小港區', '柳營區', '苓雅區', '深坑區', '莿桐鄉', '新埔鎮', '埔心鄉', '玉里鎮', '溪口鄉', '八德區', '宜蘭市', '燕巢區', '福興鄉', '茂林區', '後龍鎮', '安樂區', '尖石鄉', '沙鹿區', '和平區', '泰安鄉', '麥寮鄉', '坪林區', '三灣鄉', '左鎮區', '湖內區', '竹南鎮', '佳里區', '東區', '寶山鄉', '善化區', '南屯區', '梧棲區', '埔里鎮', '新店區', '西港區', '馬公市', '美濃區', '麻豆區', '枋山鄉', '仁德區', '車城鄉', '觀音區', '彌陀區', '頭城鎮', '羅東鎮', '鶯歌區', '枋寮鄉', '竹東鎮', '將軍區', '金山區', '蘆竹區', '頭份市', '仁愛鄉', '西嶼鄉', '通霄鎮', '彰化市', '草屯鎮', '楠西區', '左營區', '泰武鄉', '南投市', '關山鎮', '鳳山區', '安定區', '旗津區', '三地門鄉', '南化區', '山上區', '中西區', '秀水鄉', '內埔鄉', '汐止區', '杉林區', '樹林區', '萬榮鄉', '平鎮區', '新屋區', '大村鄉', '成功鎮', '番路鄉', '歸仁區', '龍潭區', '水上鄉', '埔鹽鄉', '三重區', '龍井區', '豐濱鄉', '萬華區', '六腳鄉', '阿蓮區', '二崙鄉', '三星鄉', '吉安鄉', '大內區', '頭屋鄉', '埤頭鄉', '獅子鄉', '溪湖鎮', '六甲區', '東山區', '甲仙區', '新社區', '八里區', '琉球鄉', '土庫鎮', '北投區', '萬丹鄉', '褒忠鄉', '東引鄉', '清水區', '前鎮區', '鹽埕區', '花壇鄉', '茄萣區', '來義鄉', '永康區', '信義區', '雙溪區', '里港鄉', '烏日區', '後壁區', '鹿谷鄉', '阿里山鄉', '大林鎮', '光復鄉', '國姓鄉', '大社區', '七股區', '新埤鄉', '竹田鄉', '北竿鄉', '關廟區', '古坑鄉', '貢寮區', '中埔鄉', '斗六市', '虎尾鎮', '新營區', '鹿港鎮', '芳苑鄉', '斗南鎮', '冬山鄉', '蘇澳鎮', '鹿草鄉', '鼓山區', '南澳鄉', '神岡區', '蘆洲區', '新園鄉', '金峰鄉', '水林鄉', '林邊鄉', '獅潭鄉', '二水鄉', '旗山區', '朴子市', '社頭鄉', '大寮區', '造橋鄉', '綠島鄉', '桃源區', '六龜區', '太保市', '北屯區', '關西鎮', '壽豐鄉', '淡水區', '東港鎮', '名間鄉', '竹塘鄉', '中和區', '海端鄉', '太平區', '前金區', '卓蘭鎮', '三義鄉', '田寮區', '外埔區', '大埤鄉', '恆春鎮', '潭子區', '仁武區', '安平區', '金沙鎮', '田中鎮', '民雄鄉', '元長鄉', '臺西鄉', '西湖鄉', '永靖鄉', '大里區', '內門區', '安南區', '竹山鎮', '麟洛鄉', '南庄鄉', '梅山鄉', '楠梓區', '桃園區', '大同區', '石碇區', '白沙鄉', '大園區', '永和區', '龍崎區', '萬里區', '大溪區', '林口區', '石岡區', '岡山區', '線西鄉', '口湖鄉', '龜山區', '大安區', '大樹區', '石門區', '芬園鄉', '新化區', '潮州鎮', '梓官區', '豐原區', '后里區', '下營區', '新港鄉', '崙背鄉', '暖暖區', '橫山鄉', '北港鎮', '集集鎮', '東勢鄉', '那瑪夏區', '林內鄉', '中壢區', '銅鑼鄉', '延平鄉', '新興區', '北區', '長治鄉', '峨眉鄉', '礁溪鄉', '南竿鄉', '魚池鄉', '卑南鄉', '土城區', '板橋區', '長濱鄉', '路竹區', '官田區', '九如鄉', '鳥松區', '布袋鎮', '新豐鄉', '池上鄉', '霧峰區', '大肚區', '二林鎮', '瑞穗鄉', '北埔鄉', '西屯區', '苑裡鎮', '新莊區', '員山鄉', '三芝區', '北門區', '莒光鄉', '南港區', '三峽區', '橋頭區', '田尾鄉', '七堵區', '五結鄉', '西區', '楊梅區', '大城鄉', '芎林鄉', '鹽水區', '水里鄉', '白河區', '泰山區', '達仁鄉', '瑞芳區', '南州鄉', '溪州鄉', '玉井區', '新城鄉', '竹北市', '大雅區', '中山區', '西螺鎮', '仁愛區', '屏東市', '復興區', '五股區', '公館鄉', '牡丹鄉', '其他', '平溪區', '花蓮市', '大武鄉', '三民區', '東石鄉', '大同鄉', '佳冬鄉', '內湖區', '烏來區', '鹽埔鄉', '北斗鎮', '松山區', '香山區', '湖口鄉', '東河鄉', '士林區', '無', '金湖鎮', '四湖鄉', '苗栗市', '中區', '大湖鄉', '新市區', '學甲區', '義竹鄉', '秀林鄉', '中正區', '太麻里鄉', '南區', '萬巒鄉', '竹崎鄉', '中寮鄉'}\n",
      "SexName :  {'無', '母', '未知', '公'}\n",
      "ReasonName :  {'不擬續養', '收容所轉入', '其他', '政府捕捉', '拾獲送交', '依法沒入', '動物救援'}\n",
      "VarietyName :  {'獵狐梗', '俄羅斯藍貓', '大麥町', '拳師犬', '柴犬', '折耳貓', '哈士奇', '寵物鼠', '傑克羅素', '米格魯', '混種貓', '其他貓', '杜賓', '貴賓', '英國藍貓', '巴戈', '梗犬', '挪威納', '狐狸', '牛頭梗', '英國鬥牛犬', '喜瑪拉雅', '鬆獅犬', '摺耳貓', '狼犬', '法國鬥牛犬', '美國短毛貓', '比熊', '英國短毛貓', '大丹狗', '加菲貓', '伯恩山', '雪納瑞', '混種', '波斯', '敖犬', '秋田', '豹貓', '暹羅貓', '西施', '268', '北京犬', '蝴蝶犬', '馬爾濟斯', '約克夏', '西高地白梗', '混種狗', '大白熊', '臘腸', '美國鬥牛犬', '拉布拉多', '吉娃娃', '喜樂蒂', '金吉拉', '高山犬', '寵物兔', '黃金獵犬', '古代牧羊犬', '波士頓', '柯基', '比特', '可卡', '日本種', '英國查理士獵犬', '其他犬', '阿富汗', '邊境牧羊犬', '迷你品', '拉薩', '博美'}\n",
      "VarietyRemark :  {'長毛', '混狼犬', '似瑪爾濟斯', '混種貓', '貴賓', '虎斑貓', '博美混狐狸', '異國短毛貓', '中國冠毛犬', '混西施', '美國惡霸', '牧羊犬', '虎斑貓 ', '瑪爾濟斯', '賓士貓', '紅腿象龜', '蜜袋鼯', '暹羅貓', '鬥牛', '西施', '似牧羊犬', '蝴蝶犬+吉娃娃', '混梗', '累似杜賓犬', '混種狼犬', '藍折耳貓', '混迷你品', '比特混波士頓犬', '靈緹', '虎斑', '混暹羅', '比特犬', '羊', '混雪納瑞', '長毛臘腸', '柴犬', '長毛臘腸犬', '松鼠', '混蝴蝶', '尋血犬', '傑克羅素', '鵝', '疑似混到高砂犬', '巴及度', '牛頭梗', '似比特', '雪納瑞', '比利時狼犬', '波斯', '混梗犬', '高加索', '藍貓', '混種柴', '(德國牧羊犬)', '蘇格蘭梗', '混到米格魯', '波斯頓梗犬', '似吉娃娃', '比利犬', '臘腸', '黑色貴賓', '吉娃娃', '黑色', '似狼犬', '捲耳貓', '奶油臘腸', '三花', '混', '很像混種犬', '混秋田', '刺蝟', '似巴哥', '紅貴賓', '德國牧羊犬', '拉不拉多', '喜馬拉雅貓', '類高山混比特', '可能混到德國狼犬', '黑貴賓', '似拉不拉多', '狼犬混哈士奇', '似米格魯', '杜賓', '赫尼亞', '梗血統', '日本狆', '文鳥', '洛威那', '加菲貓', '似梗犬', '蛇', '混種', '鴿子', '長毛吉娃娃', '混杜賓', '似獒犬', '惡霸', '土黑狗', '米克斯', '混美短', '混種梗犬', '馬爾濟斯', '迷你杜賓', '兔子', '鬥牛犬', '混臘腸', '比特', '混種臘腸', '迷你杜檳', '似柴犬', '銀', '似臘腸', '小杜賓', '似馬爾濟斯', '似西施', '高加索犬', '吉娃娃混約克夏', '混種犬', '鵝4隻', '赤柴', '廠商測試', '鸚鵡', '無', '梗犬', '混貴賓', '微混比特犬', '英國鬥牛犬', '狼犬', '比熊', '柴', '鴨', '法鬥混貴賓', '混獒犬', '狐狸犬', '豹貓', '混種品種犬', '似比特 ', '水牛', '混牧羊犬', '小型', '潘布魯克', '品種說明', '挪威森林貓', '混拉拉', '巴哥犬', '拉布拉多', '喜樂蒂', '金吉拉', '奶油貴賓', '德國狼犬', '比利時種', '混金吉拉', '混高山犬', '迷你杜賓犬', '威爾士柯基', '混米格魯', '蘇格蘭折耳貓', '蘇卡達龜', '邊境牧羊犬', '混柴犬', '黑貓'}\n",
      "BuildName :  {'小', '大', '中'}\n",
      "Bodyweight :  {'15~20', '20以上', '無', '0~5', '5~10', '10~15'}\n",
      "Age2Name :  {'未離乳', '3至7歲', '1至3月齡', '無', '6月齡至1歲', '3至6月齡', '7歲以上', '1至3歲'}\n",
      "CoatName :  {'黑黃', '白', '黑棕', '棕灰', '虎斑白', '無', '花白', '黃虎斑', '黑', '米', '黑虎斑', '咖啡黑', '黃', '咖啡白', '黃白', '棕黑', '咖啡棕', '灰黑', '黑灰', '花', '棕', '黑白', '三花', '灰', '灰白', '虎斑', '咖啡', '棕白'}\n",
      "MouthCoat :  {'白', '其他', '黃', '無', '棕灰黑'}\n",
      "HeadCoat :  {'黑白', '白', '其他', '黃', '四眼', '受傷', '無', '虎斑', '棕灰黑'}\n",
      "ChestCoat :  {'其他', '黃毛', '無', '棕黑毛', '白毛'}\n",
      "FootCoat :  {'白', '其他', '黃', '受傷', '無', '虎斑', '棕灰黑'}\n",
      "EarCoat :  {'其他', '黃', '受傷', '無', '虎斑', '剪/缺/折/立/垂耳', '棕灰黑'}\n",
      "BackCoat :  {'白', '其他', '受傷', '無', '斑點', '棕灰黑'}\n",
      "TailCoat :  {'麒麟尾', '白', '無尾', '其他', '有病', '無', '斑點', '截尾', '棕灰黑'}\n",
      "CollarName :  {'無項圈', '有項圈'}\n",
      "ThoracodorsalName :  {'有衣服', '無衣服'}\n",
      "AdoptionName :  {'待認領', '適合認養', '暫時不適合'}\n",
      "NotAdoptionName :  {'無'}\n",
      "_Situation2Name :  {'人道處理其他法令授權', '人道處理第12條第1項第5款', '人道處理第12條第1項第3款', '其他', '原地飭回', '生理耗弱死亡', '認領', '認養', '無', '人道處理第12條第1項第7款', '收容所轉出', '逃脫', '疾病死亡'}\n",
      "SituationRemark :  {'無'}\n",
      "StatusName :  {'安樂死', '認領養', '其他', '原地飭回', '生理耗弱死亡', '無', '逃跑', '疾病死亡'}\n",
      "IsSterilizationName :  {'是', '未確定'}\n",
      "EarNoteName :  {'左剪耳', '無', '右剪耳'}\n",
      "LengthCoatName :  {'短毛', '中長毛', '未修剪過', '長毛', '無'}\n",
      "HealthStatusName :  {'寄生蟲', '疫苗', '其它', '正常', '無', '異常'}\n",
      "StayDays :  {'690', '445', '1223', '802', '800', '635', '617', '172', '882', '781', '70', '663', '716', '645', '98', '1054', '337', '613', '724', '367', '719', '519', '595', '1489', '628', '973', '260', '116', '309', '460', '268', '765', '695', '407', '791', '50', '668', '945', '390', '348', '541', '375', '744', '29', '397', '2', '411', '127', '288', '797', '428', '109', '323', '101', '1338', '232', '1189', '876', '706', '97', '404', '9', '679', '475', '151', '251', '777', '73', '992', '314', '579', '195', '334', '54', '868', '427', '401', '847', '436', '202', '284', '984', '629', '303', '298', '759', '138', '1696', '399', '1266', '804', '785', '930', '405', '623', '22', '1745', '583', '279', '1175', '958', '249', '225', '69', '270', '995', '1105', '376', '35', '384', '1686', '156', '674', '1134', '525', '796', '1024', '111', '702', '87', '381', '4', '455', '1828', '480', '258', '416', '154', '479', '1022', '591', '949', '464', '1007', '396', '476', '1050', '38', '923', '181', '133', '526', '47', '1207', '633', '447', '661', '77', '501', '818', '979', '918', '1329', '343', '210', '48', '939', '1892', '819', '1029', '306', '340', '439', '734', '42', '15', '735', '893', '717', '327', '547', '148', '452', '299', '891', '565', '346', '497', '1830', '467', '198', '446', '287', '651', '1028', '275', '36', '1005', '2078', '144', '341', '453', '709', '58', '243', '1324', '250', '746', '185', '603', '752', '18', '549', '177', '391', '861', '567', '173', '344', '252', '919', '431', '466', '1108', '685', '393', '672', '10', '881', '529', '1275', '222', '936', '983', '421', '1663', '698', '615', '374', '835', '457', '1224', '586', '140', '1736', '498', '1319', '286', '1137', '540', '959', '483', '408', '277', '644', '594', '419', '2279', '1567', '491', '273', '437', '1150', '1066', '503', '357', '199', '1095', '518', '338', '975', '860', '354', '350', '970', '482', '236', '274', '681', '1084', '626', '708', '539', '481', '1182', '964', '580', '763', '1208', '1204', '731', '533', '81', '495', '556', '884', '237', '254', '507', '969', '91', '164', '1393', '1194', '1178', '368', '223', '1826', '1124', '664', '5', '62', '86', '1071', '1185', '1213', '593', '184', '829', '135', '207', '158', '978', '269', '347', '305', '220', '332', '1235', '2219', '326', '49', '318', '72', '389', '576', '809', '704', '1529', '1422', '55', '473', '751', '44', '678', '563', '1253', '673', '121', '500', '534', '200', '402', '188', '561', '333', '538', '208', '463', '155', '1614', '444', '263', '699', '537', '750', '442', '496', '168', '1033', '246', '637', '748', '527', '3', '137', '398', '570', '43', '179', '687', '671', '293', '294', '830', '152', '888', '40', '514', '224', '117', '524', '1786', '434', '1482', '931', '465', '528', '902', '63', '825', '178', '767', '1631', '459', '566', '990', '388', '215', '221', '472', '233', '126', '13', '345', '468', '1113', '292', '88', '153', '778', '1097', '351', '1064', '592', '61', '660', '648', '205', '271', '216', '235', '820', '1389', '548', '1156', '1034', '506', '400', '831', '1583', '887', '430', '146', '1020', '1216', '197', '276', '1000', '31', '377', '824', '52', '23', '582', '96', '1861', '362', '90', '131', '412', '729', '190', '242', '486', '1764', '1155', '1362', '961', '966', '110', '838', '17', '420', '291', '602', '788', '564', '745', '103', '217', '130', '238', '123', '484', '707', '115', '106', '552', '67', '895', '863', '239', '60', '280', '226', '770', '26', '462', '670', '320', '684', '1454', '488', '505', '12', '128', '1877', '742', '657', '485', '171', '855', '652', '859', '639', '654', '79', '487', '536', '349', '530', '636', '2020', '19', '461', '789', '317', '356', '749', '1079', '669', '99', '370', '2609', '160', '100', '66', '75', '1151', '1310', '429', '290', '422', '1754', '981', '675', '234', '456', '692', '255', '659', '722', '577', '511', '1270', '65', '380', '321', '739', '822', '1377', '1841', '857', '93', '1590', '6', '1117', '873', '124', '7', '438', '136', '608', '772', '774', '30', '1163', '312', '245', '611', '425', '141', '182', '361', '264', '454', '441', '769', '900', '283', '450', '469', '189', '84', '545', '905', '974', '957', '247', '807', '967', '1127', '711', '906', '180', '2052', '550', '922', '621', '32', '1479', '295', '703', '790', '555', '122', '846', '622', '965', '1075', '844', '310', '262', '157', '994', '371', '1336', '630', '386', '934', '606', '352', '705', '159', '610', '604', '395', '1065', '596', '609', '842', '1', '194', '655', '451', '16', '560', '1417', '2070', '57', '883', '78', '433', '166', '186', '39', '253', '170', '627', '811', '1179', '1238', '756', '643', '118', '336', '169', '688', '1161', '74', '440', '691', '139', '324', '856', '302', '696', '256', '828', '161', '248', '513', '145', '662', '647', '755', '1008', '951', '289', '1523', '355', '892', '927', '542', '943', '307', '574', '114', '955', '413', '119', '543', '649', '1367', '667', '999', '727', '192', '14', '1058', '414', '113', '1300', '1093', '499', '358', '325', '701', '311', '737', '588', '1043', '261', '53', '369', '1532', '1432', '163', '650', '677', '11', '104', '812', '510', '20', '1048', '330', '134', '206', '683', '1042', '728', '783', '972', '569', '1796', '757', '490', '423', '557', '517', '572', '56', '1120', '1215', '932', '862', '313', '301', '1109', '803', '272', '120', '618', '1046', '112', '27', '21', '1594', '1073', '41', '666', '418', '1102', '559', '379', '214', '359', '489', '694', '947', '244', '721', '316', '1387', '492', '521', '443', '1001', '211', '37', '740', '102', '315', '339', '296', '328', '229', '82', '426', '1016', '335', '231', '353', '726', '162', '1361', '1118', '363', '403', '105', '780', '219', '1353', '917', '784', '700', '733', '680', '693', '478', '573', '213', '531', '366', '520', '33', '605', '167', '1186', '285', '665', '612', '383', '24', '1192', '28', '150', '83', '424', '308', '174', '1757', '867', '1234', '147', '597', '512', '108', '143', '494', '1371', '865', '849', '502', '45', '373', '1205', '508', '832', '51', '364', '866', '642', '916', '1017', '1059', '2107', '1126', '581', '1449', '853', '584', '129', '266', '843', '382', '841', '204', '929', '319', '387', '682', '562', '240', '193', '149', '203', '1138', '762', '897', '523', '342', '718', '632', '1074', '132', '227', '1027', '59', '281', '228', '329', '568', '218', '25', '191', '509', '432', '686', '1273', '689', '257', '435', '760', '1937', '176', '201', '267', '1607', '471', '417', '68', '474', '212', '1176', '409', '80', '378', '631', '646', '46', '406', '816', '736', '183', '953', '1554', '768', '1384', '1572', '938', '360', '209', '546', '758', '619', '620', '89', '241', '94', '394', '76', '504', '322', '634', '385', '1080', '448', '449', '1148', '1078', '1018', '1598', '1327', '392', '614', '1136', '71', '95', '915', '814', '372', '477', '551', '712', '786', '1435', '107', '607', '365', '34', '741', '187', '761', '259', '1062', '175', '813', '297', '331', '798', '1343', '977', '625', '805', '230', '458', '0', '92', '1090', '196', '470', '125', '278', '640', '265', '64', '282', '715', '532', '766', '858', '747', '616', '653', '415', '1010', '1076', '1171', '410', '1081', '1763', '743', '575', '516', '1226', '8', '1056', '1639', '558', '304', '85', '553', '142', '300', '165', '773', '899', '845'}\n",
      "Behavior87 :  {'1', '0'}\n",
      "Behavior84 :  {'1', '0'}\n",
      "Behavior83 :  {'1', '0'}\n",
      "Behavior89 :  {'1', '0'}\n",
      "Behavior88 :  {'1', '0'}\n",
      "Behavior無 :  {'1', '0'}\n"
     ]
    },
    {
     "name": "stdout",
     "output_type": "stream",
     "text": [
      "Behavior90 :  {'1', '0'}\n",
      "Behavior85 :  {'1', '0'}\n",
      "Behavior86 :  {'1', '0'}\n"
     ]
    }
   ],
   "source": [
    "file = open('clean1_description.txt', 'w')\n",
    "file.write('# of columns:'+str(len(raw.columns)))\n",
    "raw = raw.astype(str)\n",
    "for col in raw.columns:\n",
    "    if col in ['InImage','ImageNameStr','FrontImageName']:\n",
    "        continue\n",
    "    print(col+' : ', set(raw[col]))\n",
    "    file.write(col+' : '+', '.join(list(set(raw[col])))+'\\n')\n",
    "#     print(i, sum([True if re.search(i, x) else False for x in raw['TailCoat']]))\n",
    "file.close()\n",
    "raw.to_csv('clean1.csv', index=False)"
   ]
  },
  {
   "cell_type": "code",
   "execution_count": 120,
   "metadata": {},
   "outputs": [],
   "source": []
  },
  {
   "cell_type": "code",
   "execution_count": null,
   "metadata": {},
   "outputs": [],
   "source": []
  }
 ],
 "metadata": {
  "kernelspec": {
   "display_name": "Python 3",
   "language": "python",
   "name": "python3"
  },
  "language_info": {
   "codemirror_mode": {
    "name": "ipython",
    "version": 3
   },
   "file_extension": ".py",
   "mimetype": "text/x-python",
   "name": "python",
   "nbconvert_exporter": "python",
   "pygments_lexer": "ipython3",
   "version": "3.7.4"
  }
 },
 "nbformat": 4,
 "nbformat_minor": 2
}
